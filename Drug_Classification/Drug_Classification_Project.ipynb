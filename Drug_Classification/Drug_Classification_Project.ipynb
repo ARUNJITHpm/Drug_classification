{
 "cells": [
  {
   "cell_type": "markdown",
   "id": "76b15cb6",
   "metadata": {
    "papermill": {
     "duration": 0.060406,
     "end_time": "2022-05-04T02:53:14.632769",
     "exception": false,
     "start_time": "2022-05-04T02:53:14.572363",
     "status": "completed"
    },
    "tags": []
   },
   "source": [
    "## Business Problem\n",
    "This dataset contains information about drug classification based on patient general information and its diagnosis. Machine learning model is needed in order **to predict the outcome of the drugs type** that might be suitable for the patient.\n",
    "\n",
    "\n",
    "\n",
    "The following is the **structure of the data set**.\n",
    "\n",
    "\n",
    "<table style=\"width:100%\">\n",
    "<thead>\n",
    "<tr>\n",
    "<th style=\"text-align:center; font-weight: bold; font-size:14px\">Variable Name</th>\n",
    "<th style=\"text-align:center; font-weight: bold; font-size:14px\">Description</th>\n",
    "<th style=\"text-align:center; font-weight: bold; font-size:14px\">Sample Data</th>\n",
    "</tr>\n",
    "</thead>\n",
    "<tbody>\n",
    "<tr>\n",
    "<td><b>Age</b></td>\n",
    "<td>Patient Age</td>\n",
    "<td>23; 47; ...</td>\n",
    "</tr>\n",
    "<tr>\n",
    "<td><b>Sex</b></td>\n",
    "<td>Gender of patient <br> (male or female)</td>\n",
    "<td>F; M; ...</td>\n",
    "</tr>\n",
    "<tr>\n",
    "<td><b>BP</b></td>\n",
    "<td>Levels of blood pressure <br> (high, normal, or low)</td>\n",
    "<td>HIGH; NORMAL; LOW; ...</td>\n",
    "</tr>\n",
    "<tr>\n",
    "<td><b>Cholesterol</b></td>\n",
    "<td>Levels of cholesterol <br> (high or normal)</td>\n",
    "<td>1.4; 1.3; ...</td>\n",
    "</tr>\n",
    "<tr>\n",
    "<td><b>Na_to_K</b></td>\n",
    "<td>Sodium to potassium ratio in blood</td>\n",
    "<td>25.355; 13.093; ...</td>\n",
    "</tr>\n",
    "<tr>\n",
    "<td><b>Drug</b></td>\n",
    "<td>Type of drug</td>\n",
    "<td>DrugY; drugC; ...</td>\n",
    "</tr>\n",
    "</tbody>\n",
    "</table>\n",
    "\n"
   ]
  },
  {
   "cell_type": "markdown",
   "id": "39fa8cf6",
   "metadata": {
    "id": "2IQ7wR2Nf_UY",
    "papermill": {
     "duration": 0.056141,
     "end_time": "2022-05-04T02:53:14.745581",
     "exception": false,
     "start_time": "2022-05-04T02:53:14.689440",
     "status": "completed"
    },
    "tags": []
   },
   "source": [
    "### Importing Libraries "
   ]
  },
  {
   "cell_type": "code",
   "execution_count": 60,
   "id": "00fd8d03",
   "metadata": {
    "execution": {
     "iopub.execute_input": "2022-05-04T02:53:14.868028Z",
     "iopub.status.busy": "2022-05-04T02:53:14.866226Z",
     "iopub.status.idle": "2022-05-04T02:53:15.799024Z",
     "shell.execute_reply": "2022-05-04T02:53:15.798287Z",
     "shell.execute_reply.started": "2022-03-08T01:25:02.454964Z"
    },
    "id": "BWyI7RUxdubo",
    "papermill": {
     "duration": 0.996157,
     "end_time": "2022-05-04T02:53:15.799208",
     "exception": false,
     "start_time": "2022-05-04T02:53:14.803051",
     "status": "completed"
    },
    "tags": []
   },
   "outputs": [],
   "source": [
    "import numpy as np\n",
    "import pandas as pd\n",
    "import matplotlib.pyplot as plt\n",
    "import seaborn as sns\n"
   ]
  },
  {
   "cell_type": "code",
   "execution_count": null,
   "id": "10af98e4",
   "metadata": {},
   "outputs": [],
   "source": []
  },
  {
   "cell_type": "markdown",
   "id": "d09adf22",
   "metadata": {
    "id": "GOWA0yfdgKh2",
    "papermill": {
     "duration": 0.057851,
     "end_time": "2022-05-04T02:53:15.913048",
     "exception": false,
     "start_time": "2022-05-04T02:53:15.855197",
     "status": "completed"
    },
    "tags": []
   },
   "source": [
    "### Reading Data Set "
   ]
  },
  {
   "cell_type": "code",
   "execution_count": 61,
   "id": "7ffeb4b1",
   "metadata": {
    "execution": {
     "iopub.execute_input": "2022-05-04T02:53:16.032035Z",
     "iopub.status.busy": "2022-05-04T02:53:16.030941Z",
     "iopub.status.idle": "2022-05-04T02:53:16.050526Z",
     "shell.execute_reply": "2022-05-04T02:53:16.051084Z",
     "shell.execute_reply.started": "2022-03-08T01:25:03.464398Z"
    },
    "id": "MttOdogGf977",
    "papermill": {
     "duration": 0.081087,
     "end_time": "2022-05-04T02:53:16.051265",
     "exception": false,
     "start_time": "2022-05-04T02:53:15.970178",
     "status": "completed"
    },
    "tags": []
   },
   "outputs": [],
   "source": [
    "df_drug = pd.read_csv(\"drug200.csv\")"
   ]
  },
  {
   "cell_type": "code",
   "execution_count": 62,
   "id": "ce5ac048",
   "metadata": {
    "execution": {
     "iopub.execute_input": "2022-05-04T02:53:16.281366Z",
     "iopub.status.busy": "2022-05-04T02:53:16.280346Z",
     "iopub.status.idle": "2022-05-04T02:53:16.301671Z",
     "shell.execute_reply": "2022-05-04T02:53:16.302171Z",
     "shell.execute_reply.started": "2022-03-08T01:25:03.485176Z"
    },
    "id": "03SilAIggW36",
    "outputId": "ec1244a8-a4a3-4200-af36-2c7776887477",
    "papermill": {
     "duration": 0.081123,
     "end_time": "2022-05-04T02:53:16.302346",
     "exception": false,
     "start_time": "2022-05-04T02:53:16.221223",
     "status": "completed"
    },
    "tags": []
   },
   "outputs": [
    {
     "data": {
      "text/html": [
       "<div>\n",
       "<style scoped>\n",
       "    .dataframe tbody tr th:only-of-type {\n",
       "        vertical-align: middle;\n",
       "    }\n",
       "\n",
       "    .dataframe tbody tr th {\n",
       "        vertical-align: top;\n",
       "    }\n",
       "\n",
       "    .dataframe thead th {\n",
       "        text-align: right;\n",
       "    }\n",
       "</style>\n",
       "<table border=\"1\" class=\"dataframe\">\n",
       "  <thead>\n",
       "    <tr style=\"text-align: right;\">\n",
       "      <th></th>\n",
       "      <th>Age</th>\n",
       "      <th>Sex</th>\n",
       "      <th>BP</th>\n",
       "      <th>Cholesterol</th>\n",
       "      <th>Na_to_K</th>\n",
       "      <th>Drug</th>\n",
       "    </tr>\n",
       "  </thead>\n",
       "  <tbody>\n",
       "    <tr>\n",
       "      <th>0</th>\n",
       "      <td>23</td>\n",
       "      <td>F</td>\n",
       "      <td>HIGH</td>\n",
       "      <td>HIGH</td>\n",
       "      <td>25.355</td>\n",
       "      <td>drugY</td>\n",
       "    </tr>\n",
       "    <tr>\n",
       "      <th>1</th>\n",
       "      <td>47</td>\n",
       "      <td>M</td>\n",
       "      <td>LOW</td>\n",
       "      <td>HIGH</td>\n",
       "      <td>13.093</td>\n",
       "      <td>drugC</td>\n",
       "    </tr>\n",
       "    <tr>\n",
       "      <th>2</th>\n",
       "      <td>47</td>\n",
       "      <td>M</td>\n",
       "      <td>LOW</td>\n",
       "      <td>HIGH</td>\n",
       "      <td>10.114</td>\n",
       "      <td>drugC</td>\n",
       "    </tr>\n",
       "    <tr>\n",
       "      <th>3</th>\n",
       "      <td>28</td>\n",
       "      <td>F</td>\n",
       "      <td>NORMAL</td>\n",
       "      <td>HIGH</td>\n",
       "      <td>7.798</td>\n",
       "      <td>drugX</td>\n",
       "    </tr>\n",
       "    <tr>\n",
       "      <th>4</th>\n",
       "      <td>61</td>\n",
       "      <td>F</td>\n",
       "      <td>LOW</td>\n",
       "      <td>HIGH</td>\n",
       "      <td>18.043</td>\n",
       "      <td>drugY</td>\n",
       "    </tr>\n",
       "  </tbody>\n",
       "</table>\n",
       "</div>"
      ],
      "text/plain": [
       "   Age Sex      BP Cholesterol  Na_to_K   Drug\n",
       "0   23   F    HIGH        HIGH   25.355  drugY\n",
       "1   47   M     LOW        HIGH   13.093  drugC\n",
       "2   47   M     LOW        HIGH   10.114  drugC\n",
       "3   28   F  NORMAL        HIGH    7.798  drugX\n",
       "4   61   F     LOW        HIGH   18.043  drugY"
      ]
     },
     "execution_count": 62,
     "metadata": {},
     "output_type": "execute_result"
    }
   ],
   "source": [
    "df_drug.head()"
   ]
  },
  {
   "cell_type": "code",
   "execution_count": 64,
   "id": "0e15a124",
   "metadata": {},
   "outputs": [
    {
     "data": {
      "text/plain": [
       "array(['drugY', 'drugC', 'drugX', 'drugA', 'drugB'], dtype=object)"
      ]
     },
     "execution_count": 64,
     "metadata": {},
     "output_type": "execute_result"
    }
   ],
   "source": [
    "df_drug['Drug'].unique()"
   ]
  },
  {
   "cell_type": "code",
   "execution_count": 65,
   "id": "ce12c768",
   "metadata": {},
   "outputs": [
    {
     "data": {
      "text/plain": [
       "(200, 6)"
      ]
     },
     "execution_count": 65,
     "metadata": {},
     "output_type": "execute_result"
    }
   ],
   "source": [
    "df_drug.shape"
   ]
  },
  {
   "cell_type": "code",
   "execution_count": 63,
   "id": "6a2c157c",
   "metadata": {
    "execution": {
     "iopub.execute_input": "2022-05-04T02:53:16.533336Z",
     "iopub.status.busy": "2022-05-04T02:53:16.532328Z",
     "iopub.status.idle": "2022-05-04T02:53:16.554669Z",
     "shell.execute_reply": "2022-05-04T02:53:16.554090Z",
     "shell.execute_reply.started": "2022-03-08T01:25:03.511066Z"
    },
    "id": "wxebQ3nmgaB0",
    "outputId": "af1044bc-7b6e-427b-a84e-f27302b254f3",
    "papermill": {
     "duration": 0.082029,
     "end_time": "2022-05-04T02:53:16.554807",
     "exception": false,
     "start_time": "2022-05-04T02:53:16.472778",
     "status": "completed"
    },
    "tags": []
   },
   "outputs": [
    {
     "name": "stdout",
     "output_type": "stream",
     "text": [
      "<class 'pandas.core.frame.DataFrame'>\n",
      "RangeIndex: 200 entries, 0 to 199\n",
      "Data columns (total 6 columns):\n",
      "Age            200 non-null int64\n",
      "Sex            200 non-null object\n",
      "BP             200 non-null object\n",
      "Cholesterol    200 non-null object\n",
      "Na_to_K        200 non-null float64\n",
      "Drug           200 non-null object\n",
      "dtypes: float64(1), int64(1), object(4)\n",
      "memory usage: 9.5+ KB\n"
     ]
    }
   ],
   "source": [
    "df_drug.info()"
   ]
  },
  {
   "cell_type": "markdown",
   "id": "7b2e434c",
   "metadata": {
    "id": "PY0yjKQfgcar",
    "papermill": {
     "duration": 0.057495,
     "end_time": "2022-05-04T02:53:16.784589",
     "exception": false,
     "start_time": "2022-05-04T02:53:16.727094",
     "status": "completed"
    },
    "tags": []
   },
   "source": [
    "### Initial Dataset Exploration \n"
   ]
  },
  {
   "cell_type": "markdown",
   "id": "000d4ddd",
   "metadata": {
    "id": "SIh-WZeDhSUk",
    "papermill": {
     "duration": 0.057762,
     "end_time": "2022-05-04T02:53:16.899871",
     "exception": false,
     "start_time": "2022-05-04T02:53:16.842109",
     "status": "completed"
    },
    "tags": []
   },
   "source": [
    "#### Categorical Variables "
   ]
  },
  {
   "cell_type": "code",
   "execution_count": 66,
   "id": "ee41a4eb",
   "metadata": {
    "execution": {
     "iopub.execute_input": "2022-05-04T02:53:17.021656Z",
     "iopub.status.busy": "2022-05-04T02:53:17.020936Z",
     "iopub.status.idle": "2022-05-04T02:53:17.023487Z",
     "shell.execute_reply": "2022-05-04T02:53:17.023965Z",
     "shell.execute_reply.started": "2022-03-08T01:25:03.538492Z"
    },
    "id": "1wxlj91AgzBZ",
    "outputId": "3cdb9d5e-8de3-43d1-c455-ad225572e8fb",
    "papermill": {
     "duration": 0.066593,
     "end_time": "2022-05-04T02:53:17.024144",
     "exception": false,
     "start_time": "2022-05-04T02:53:16.957551",
     "status": "completed"
    },
    "tags": []
   },
   "outputs": [
    {
     "data": {
      "text/plain": [
       "drugY    91\n",
       "drugX    54\n",
       "drugA    23\n",
       "drugB    16\n",
       "drugC    16\n",
       "Name: Drug, dtype: int64"
      ]
     },
     "execution_count": 66,
     "metadata": {},
     "output_type": "execute_result"
    }
   ],
   "source": [
    "df_drug.Drug.value_counts()"
   ]
  },
  {
   "cell_type": "markdown",
   "id": "1b378812",
   "metadata": {
    "papermill": {
     "duration": 0.057562,
     "end_time": "2022-05-04T02:53:17.141493",
     "exception": false,
     "start_time": "2022-05-04T02:53:17.083931",
     "status": "completed"
    },
    "tags": []
   },
   "source": [
    " It can be seen that from results above, DrugY has more amount than other types of drugs"
   ]
  },
  {
   "cell_type": "code",
   "execution_count": 67,
   "id": "d3c1a16c",
   "metadata": {
    "execution": {
     "iopub.execute_input": "2022-05-04T02:53:17.266669Z",
     "iopub.status.busy": "2022-05-04T02:53:17.265888Z",
     "iopub.status.idle": "2022-05-04T02:53:17.268554Z",
     "shell.execute_reply": "2022-05-04T02:53:17.269050Z",
     "shell.execute_reply.started": "2022-03-08T01:25:03.546771Z"
    },
    "id": "ztSS3uKSg-uU",
    "outputId": "14a73e4a-6bb8-424d-a3a6-db5b09956a07",
    "papermill": {
     "duration": 0.069027,
     "end_time": "2022-05-04T02:53:17.269219",
     "exception": false,
     "start_time": "2022-05-04T02:53:17.200192",
     "status": "completed"
    },
    "tags": []
   },
   "outputs": [
    {
     "data": {
      "text/plain": [
       "M    104\n",
       "F     96\n",
       "Name: Sex, dtype: int64"
      ]
     },
     "execution_count": 67,
     "metadata": {},
     "output_type": "execute_result"
    }
   ],
   "source": [
    "df_drug.Sex.value_counts()"
   ]
  },
  {
   "cell_type": "markdown",
   "id": "a20fc7ee",
   "metadata": {
    "papermill": {
     "duration": 0.058057,
     "end_time": "2022-05-04T02:53:17.385194",
     "exception": false,
     "start_time": "2022-05-04T02:53:17.327137",
     "status": "completed"
    },
    "tags": []
   },
   "source": [
    " The distribution of patient gender is balanced."
   ]
  },
  {
   "cell_type": "code",
   "execution_count": 68,
   "id": "2eb31b45",
   "metadata": {
    "execution": {
     "iopub.execute_input": "2022-05-04T02:53:17.504646Z",
     "iopub.status.busy": "2022-05-04T02:53:17.503962Z",
     "iopub.status.idle": "2022-05-04T02:53:17.510342Z",
     "shell.execute_reply": "2022-05-04T02:53:17.510834Z",
     "shell.execute_reply.started": "2022-03-08T01:25:03.563382Z"
    },
    "id": "mZYP8-0uhDbn",
    "outputId": "675b0123-3911-4aa8-825d-643523cd5e6d",
    "papermill": {
     "duration": 0.068053,
     "end_time": "2022-05-04T02:53:17.511016",
     "exception": false,
     "start_time": "2022-05-04T02:53:17.442963",
     "status": "completed"
    },
    "tags": []
   },
   "outputs": [
    {
     "data": {
      "text/plain": [
       "HIGH      77\n",
       "LOW       64\n",
       "NORMAL    59\n",
       "Name: BP, dtype: int64"
      ]
     },
     "execution_count": 68,
     "metadata": {},
     "output_type": "execute_result"
    }
   ],
   "source": [
    "df_drug.BP.value_counts()"
   ]
  },
  {
   "cell_type": "markdown",
   "id": "54e3e93a",
   "metadata": {
    "papermill": {
     "duration": 0.05821,
     "end_time": "2022-05-04T02:53:17.627278",
     "exception": false,
     "start_time": "2022-05-04T02:53:17.569068",
     "status": "completed"
    },
    "tags": []
   },
   "source": [
    " The distribution of blood pressure level is balanced."
   ]
  },
  {
   "cell_type": "code",
   "execution_count": 70,
   "id": "2fffab43",
   "metadata": {
    "execution": {
     "iopub.execute_input": "2022-05-04T02:53:17.747354Z",
     "iopub.status.busy": "2022-05-04T02:53:17.746682Z",
     "iopub.status.idle": "2022-05-04T02:53:17.753436Z",
     "shell.execute_reply": "2022-05-04T02:53:17.753894Z",
     "shell.execute_reply.started": "2022-03-08T01:25:03.57581Z"
    },
    "id": "trZ2eOuFhFXb",
    "outputId": "bb4ee139-66c3-4438-aa91-7340141d84ab",
    "papermill": {
     "duration": 0.068382,
     "end_time": "2022-05-04T02:53:17.754083",
     "exception": false,
     "start_time": "2022-05-04T02:53:17.685701",
     "status": "completed"
    },
    "tags": []
   },
   "outputs": [
    {
     "data": {
      "text/plain": [
       "HIGH      103\n",
       "NORMAL     97\n",
       "Name: Cholesterol, dtype: int64"
      ]
     },
     "execution_count": 70,
     "metadata": {},
     "output_type": "execute_result"
    }
   ],
   "source": [
    "df_drug.Cholesterol.value_counts()"
   ]
  },
  {
   "cell_type": "markdown",
   "id": "14b591e3",
   "metadata": {
    "papermill": {
     "duration": 0.058173,
     "end_time": "2022-05-04T02:53:17.870825",
     "exception": false,
     "start_time": "2022-05-04T02:53:17.812652",
     "status": "completed"
    },
    "tags": []
   },
   "source": [
    " The distribution of cholesterol level is balanced."
   ]
  },
  {
   "cell_type": "markdown",
   "id": "8739446f",
   "metadata": {
    "id": "pqvB06WYhV9o",
    "papermill": {
     "duration": 0.058361,
     "end_time": "2022-05-04T02:53:17.988171",
     "exception": false,
     "start_time": "2022-05-04T02:53:17.929810",
     "status": "completed"
    },
    "tags": []
   },
   "source": [
    "##  Numerical Variables \n",
    "This section will show mean, count, std, min, max and others using describe function. The skewness value for each numerical variables will also shown in this section."
   ]
  },
  {
   "cell_type": "code",
   "execution_count": 71,
   "id": "7244f30f",
   "metadata": {
    "execution": {
     "iopub.execute_input": "2022-05-04T02:53:18.112352Z",
     "iopub.status.busy": "2022-05-04T02:53:18.111629Z",
     "iopub.status.idle": "2022-05-04T02:53:18.129693Z",
     "shell.execute_reply": "2022-05-04T02:53:18.130304Z",
     "shell.execute_reply.started": "2022-03-08T01:25:03.593112Z"
    },
    "id": "1ugOd6wihXjS",
    "outputId": "3b43acfc-2a4b-42b7-9b24-3d9273a591b9",
    "papermill": {
     "duration": 0.080455,
     "end_time": "2022-05-04T02:53:18.130484",
     "exception": false,
     "start_time": "2022-05-04T02:53:18.050029",
     "status": "completed"
    },
    "tags": []
   },
   "outputs": [
    {
     "data": {
      "text/html": [
       "<div>\n",
       "<style scoped>\n",
       "    .dataframe tbody tr th:only-of-type {\n",
       "        vertical-align: middle;\n",
       "    }\n",
       "\n",
       "    .dataframe tbody tr th {\n",
       "        vertical-align: top;\n",
       "    }\n",
       "\n",
       "    .dataframe thead th {\n",
       "        text-align: right;\n",
       "    }\n",
       "</style>\n",
       "<table border=\"1\" class=\"dataframe\">\n",
       "  <thead>\n",
       "    <tr style=\"text-align: right;\">\n",
       "      <th></th>\n",
       "      <th>Age</th>\n",
       "      <th>Na_to_K</th>\n",
       "    </tr>\n",
       "  </thead>\n",
       "  <tbody>\n",
       "    <tr>\n",
       "      <th>count</th>\n",
       "      <td>200.000000</td>\n",
       "      <td>200.000000</td>\n",
       "    </tr>\n",
       "    <tr>\n",
       "      <th>mean</th>\n",
       "      <td>44.315000</td>\n",
       "      <td>16.084485</td>\n",
       "    </tr>\n",
       "    <tr>\n",
       "      <th>std</th>\n",
       "      <td>16.544315</td>\n",
       "      <td>7.223956</td>\n",
       "    </tr>\n",
       "    <tr>\n",
       "      <th>min</th>\n",
       "      <td>15.000000</td>\n",
       "      <td>6.269000</td>\n",
       "    </tr>\n",
       "    <tr>\n",
       "      <th>25%</th>\n",
       "      <td>31.000000</td>\n",
       "      <td>10.445500</td>\n",
       "    </tr>\n",
       "    <tr>\n",
       "      <th>50%</th>\n",
       "      <td>45.000000</td>\n",
       "      <td>13.936500</td>\n",
       "    </tr>\n",
       "    <tr>\n",
       "      <th>75%</th>\n",
       "      <td>58.000000</td>\n",
       "      <td>19.380000</td>\n",
       "    </tr>\n",
       "    <tr>\n",
       "      <th>max</th>\n",
       "      <td>74.000000</td>\n",
       "      <td>38.247000</td>\n",
       "    </tr>\n",
       "  </tbody>\n",
       "</table>\n",
       "</div>"
      ],
      "text/plain": [
       "              Age     Na_to_K\n",
       "count  200.000000  200.000000\n",
       "mean    44.315000   16.084485\n",
       "std     16.544315    7.223956\n",
       "min     15.000000    6.269000\n",
       "25%     31.000000   10.445500\n",
       "50%     45.000000   13.936500\n",
       "75%     58.000000   19.380000\n",
       "max     74.000000   38.247000"
      ]
     },
     "execution_count": 71,
     "metadata": {},
     "output_type": "execute_result"
    }
   ],
   "source": [
    "df_drug.describe()"
   ]
  },
  {
   "cell_type": "code",
   "execution_count": 72,
   "id": "c478e2b0",
   "metadata": {
    "execution": {
     "iopub.execute_input": "2022-05-04T02:53:18.251488Z",
     "iopub.status.busy": "2022-05-04T02:53:18.250854Z",
     "iopub.status.idle": "2022-05-04T02:53:18.257055Z",
     "shell.execute_reply": "2022-05-04T02:53:18.256536Z",
     "shell.execute_reply.started": "2022-03-08T01:25:03.622219Z"
    },
    "id": "BdcdYKewh3Qt",
    "outputId": "ae01b06a-9274-460e-fb0b-edd502c3c83f",
    "papermill": {
     "duration": 0.067738,
     "end_time": "2022-05-04T02:53:18.257199",
     "exception": false,
     "start_time": "2022-05-04T02:53:18.189461",
     "status": "completed"
    },
    "tags": []
   },
   "outputs": [
    {
     "name": "stdout",
     "output_type": "stream",
     "text": [
      "Age skewness:  0.03030835703000607\n"
     ]
    }
   ],
   "source": [
    "skewAge = df_drug.Age.skew(axis = 0, skipna = True)\n",
    "print('Age skewness: ', skewAge)"
   ]
  },
  {
   "cell_type": "code",
   "execution_count": 73,
   "id": "bdddab89",
   "metadata": {
    "execution": {
     "iopub.execute_input": "2022-05-04T02:53:18.382600Z",
     "iopub.status.busy": "2022-05-04T02:53:18.381856Z",
     "iopub.status.idle": "2022-05-04T02:53:18.384728Z",
     "shell.execute_reply": "2022-05-04T02:53:18.385264Z",
     "shell.execute_reply.started": "2022-03-08T01:25:03.630015Z"
    },
    "id": "RH84R0yyiD8o",
    "outputId": "dc45607b-1db3-49f7-d4da-1eb1ffc15a17",
    "papermill": {
     "duration": 0.068745,
     "end_time": "2022-05-04T02:53:18.385446",
     "exception": false,
     "start_time": "2022-05-04T02:53:18.316701",
     "status": "completed"
    },
    "tags": []
   },
   "outputs": [
    {
     "name": "stdout",
     "output_type": "stream",
     "text": [
      "Na to K skewness:  1.039341186028881\n"
     ]
    }
   ],
   "source": [
    "skewNatoK = df_drug.Na_to_K.skew(axis = 0, skipna = True)\n",
    "print('Na to K skewness: ', skewNatoK)"
   ]
  },
  {
   "cell_type": "code",
   "execution_count": 74,
   "id": "968c7a00",
   "metadata": {
    "execution": {
     "iopub.execute_input": "2022-05-04T02:53:18.508632Z",
     "iopub.status.busy": "2022-05-04T02:53:18.507903Z",
     "iopub.status.idle": "2022-05-04T02:53:18.803949Z",
     "shell.execute_reply": "2022-05-04T02:53:18.803421Z",
     "shell.execute_reply.started": "2022-03-08T01:25:03.649478Z"
    },
    "id": "x3x2nvtOlXmL",
    "outputId": "5fd63e16-3d93-47fa-fb4b-9ef9ab3c3da7",
    "papermill": {
     "duration": 0.35869,
     "end_time": "2022-05-04T02:53:18.804107",
     "exception": false,
     "start_time": "2022-05-04T02:53:18.445417",
     "status": "completed"
    },
    "tags": []
   },
   "outputs": [
    {
     "name": "stderr",
     "output_type": "stream",
     "text": [
      "C:\\Users\\User\\anaconda3\\envs\\My_Project\\lib\\site-packages\\seaborn\\distributions.py:2619: FutureWarning: `distplot` is a deprecated function and will be removed in a future version. Please adapt your code to use either `displot` (a figure-level function with similar flexibility) or `histplot` (an axes-level function for histograms).\n",
      "  warnings.warn(msg, FutureWarning)\n"
     ]
    },
    {
     "data": {
      "image/png": "[encoded data removed]",
      "text/plain": [
       "<Figure size 432x288 with 1 Axes>"
      ]
     },
     "metadata": {},
     "output_type": "display_data"
    }
   ],
   "source": [
    "sns.distplot(df_drug['Age']);"
   ]
  },
  {
   "cell_type": "code",
   "execution_count": 75,
   "id": "d5d43681",
   "metadata": {
    "execution": {
     "iopub.execute_input": "2022-05-04T02:53:18.938872Z",
     "iopub.status.busy": "2022-05-04T02:53:18.937454Z",
     "iopub.status.idle": "2022-05-04T02:53:19.174592Z",
     "shell.execute_reply": "2022-05-04T02:53:19.174047Z",
     "shell.execute_reply.started": "2022-03-08T01:25:03.974898Z"
    },
    "id": "1Ntxk96ulaeQ",
    "outputId": "f2034c45-36b0-4189-f637-bd6e4009a7c7",
    "papermill": {
     "duration": 0.309413,
     "end_time": "2022-05-04T02:53:19.174740",
     "exception": false,
     "start_time": "2022-05-04T02:53:18.865327",
     "status": "completed"
    },
    "tags": []
   },
   "outputs": [
    {
     "name": "stderr",
     "output_type": "stream",
     "text": [
      "C:\\Users\\User\\anaconda3\\envs\\My_Project\\lib\\site-packages\\seaborn\\distributions.py:2619: FutureWarning: `distplot` is a deprecated function and will be removed in a future version. Please adapt your code to use either `displot` (a figure-level function with similar flexibility) or `histplot` (an axes-level function for histograms).\n",
      "  warnings.warn(msg, FutureWarning)\n"
     ]
    },
    {
     "data": {
      "image/png": "[encoded data removed]",
      "text/plain": [
       "<Figure size 432x288 with 1 Axes>"
      ]
     },
     "metadata": {},
     "output_type": "display_data"
    }
   ],
   "source": [
    "sns.distplot(df_drug['Na_to_K']);"
   ]
  },
  {
   "cell_type": "markdown",
   "id": "bd3c26de",
   "metadata": {
    "id": "eAQzoK6VkbbM",
    "papermill": {
     "duration": 0.061768,
     "end_time": "2022-05-04T02:53:19.298710",
     "exception": false,
     "start_time": "2022-05-04T02:53:19.236942",
     "status": "completed"
    },
    "tags": []
   },
   "source": [
    "- The distribution of **'Age'** column is **symetric**, since the skewness value  between -0.5 and 0.5 <br>\n",
    "- The distribution of **'Na_to_K'** column is **moderately skewed**, since the skewness value is ***between 0.5 and 1***. It can also be seen from the histogram for 'Na_to_K' column"
   ]
  },
  {
   "cell_type": "markdown",
   "id": "8d89f7a3",
   "metadata": {
    "id": "MWjpuZDGiNrb",
    "papermill": {
     "duration": 0.062761,
     "end_time": "2022-05-04T02:53:19.423839",
     "exception": false,
     "start_time": "2022-05-04T02:53:19.361078",
     "status": "completed"
    },
    "tags": []
   },
   "source": [
    "#  EDA \n"
   ]
  },
  {
   "cell_type": "markdown",
   "id": "b47d96e3",
   "metadata": {
    "papermill": {
     "duration": 0.062967,
     "end_time": "2022-05-04T02:53:19.549496",
     "exception": false,
     "start_time": "2022-05-04T02:53:19.486529",
     "status": "completed"
    },
    "tags": []
   },
   "source": [
    "##  Drug Type Distribution "
   ]
  },
  {
   "cell_type": "code",
   "execution_count": 76,
   "id": "3a3e9b3c",
   "metadata": {
    "execution": {
     "iopub.execute_input": "2022-05-04T02:53:19.724918Z",
     "iopub.status.busy": "2022-05-04T02:53:19.716349Z",
     "iopub.status.idle": "2022-05-04T02:53:19.923759Z",
     "shell.execute_reply": "2022-05-04T02:53:19.923099Z",
     "shell.execute_reply.started": "2022-03-08T01:25:04.226881Z"
    },
    "id": "3b7RwO3rnH-u",
    "outputId": "897c3176-e73e-40b4-f2f3-021f8aac0055",
    "papermill": {
     "duration": 0.311857,
     "end_time": "2022-05-04T02:53:19.923903",
     "exception": false,
     "start_time": "2022-05-04T02:53:19.612046",
     "status": "completed"
    },
    "tags": []
   },
   "outputs": [
    {
     "data": {
      "image/png": "[encoded data removed]",
      "text/plain": [
       "<Figure size 432x288 with 1 Axes>"
      ]
     },
     "metadata": {},
     "output_type": "display_data"
    }
   ],
   "source": [
    "sns.set_theme(style=\"darkgrid\")\n",
    "sns.countplot(y=\"Drug\", data=df_drug, palette=\"flare\")\n",
    "plt.ylabel('Drug Type')\n",
    "plt.xlabel('Total')\n",
    "plt.show()"
   ]
  },
  {
   "cell_type": "markdown",
   "id": "cb05e7af",
   "metadata": {
    "papermill": {
     "duration": 0.064585,
     "end_time": "2022-05-04T02:53:20.052131",
     "exception": false,
     "start_time": "2022-05-04T02:53:19.987546",
     "status": "completed"
    },
    "tags": []
   },
   "source": [
    "##  Gender Distribution "
   ]
  },
  {
   "cell_type": "code",
   "execution_count": 77,
   "id": "b9a8bb0f",
   "metadata": {
    "execution": {
     "iopub.execute_input": "2022-05-04T02:53:20.189754Z",
     "iopub.status.busy": "2022-05-04T02:53:20.188702Z",
     "iopub.status.idle": "2022-05-04T02:53:20.366441Z",
     "shell.execute_reply": "2022-05-04T02:53:20.365536Z",
     "shell.execute_reply.started": "2022-03-08T01:25:04.472525Z"
    },
    "id": "FQktCCnppjoN",
    "outputId": "06d55514-5a7c-4b7e-8e5a-bf4bac3cf026",
    "papermill": {
     "duration": 0.251468,
     "end_time": "2022-05-04T02:53:20.366595",
     "exception": false,
     "start_time": "2022-05-04T02:53:20.115127",
     "status": "completed"
    },
    "tags": []
   },
   "outputs": [
    {
     "data": {
      "image/png": "[encoded data removed]",
      "text/plain": [
       "<Figure size 432x288 with 1 Axes>"
      ]
     },
     "metadata": {},
     "output_type": "display_data"
    }
   ],
   "source": [
    "sns.set_theme(style=\"darkgrid\")\n",
    "sns.countplot(x=\"Sex\", data=df_drug, palette=\"rocket\")\n",
    "plt.xlabel('Gender (F=Female, M=Male)')\n",
    "plt.ylabel('Total')\n",
    "plt.show()"
   ]
  },
  {
   "cell_type": "markdown",
   "id": "19292ba4",
   "metadata": {
    "papermill": {
     "duration": 0.063698,
     "end_time": "2022-05-04T02:53:20.493951",
     "exception": false,
     "start_time": "2022-05-04T02:53:20.430253",
     "status": "completed"
    },
    "tags": []
   },
   "source": [
    "## Blood Pressure Distribution "
   ]
  },
  {
   "cell_type": "code",
   "execution_count": 78,
   "id": "07a1a8a8",
   "metadata": {
    "execution": {
     "iopub.execute_input": "2022-05-04T02:53:20.626025Z",
     "iopub.status.busy": "2022-05-04T02:53:20.625073Z",
     "iopub.status.idle": "2022-05-04T02:53:20.872608Z",
     "shell.execute_reply": "2022-05-04T02:53:20.873112Z",
     "shell.execute_reply.started": "2022-03-08T01:25:04.605906Z"
    },
    "id": "qoN-IX-W2n2e",
    "outputId": "0ec37f75-4fca-440b-d03e-c14f62394b58",
    "papermill": {
     "duration": 0.315177,
     "end_time": "2022-05-04T02:53:20.873283",
     "exception": false,
     "start_time": "2022-05-04T02:53:20.558106",
     "status": "completed"
    },
    "tags": []
   },
   "outputs": [
    {
     "data": {
      "image/png": "[encoded data removed]",
      "text/plain": [
       "<Figure size 432x288 with 1 Axes>"
      ]
     },
     "metadata": {},
     "output_type": "display_data"
    }
   ],
   "source": [
    "sns.set_theme(style=\"darkgrid\")\n",
    "sns.countplot(y=\"BP\", data=df_drug, palette=\"crest\")\n",
    "plt.ylabel('Blood Pressure')\n",
    "plt.xlabel('Total')\n",
    "plt.show()"
   ]
  },
  {
   "cell_type": "markdown",
   "id": "19f97c6d",
   "metadata": {
    "papermill": {
     "duration": 0.065226,
     "end_time": "2022-05-04T02:53:21.002747",
     "exception": false,
     "start_time": "2022-05-04T02:53:20.937521",
     "status": "completed"
    },
    "tags": []
   },
   "source": [
    "##  Cholesterol Distribution "
   ]
  },
  {
   "cell_type": "code",
   "execution_count": 79,
   "id": "ad7e29bc",
   "metadata": {
    "execution": {
     "iopub.execute_input": "2022-05-04T02:53:21.155557Z",
     "iopub.status.busy": "2022-05-04T02:53:21.143532Z",
     "iopub.status.idle": "2022-05-04T02:53:21.322182Z",
     "shell.execute_reply": "2022-05-04T02:53:21.321627Z",
     "shell.execute_reply.started": "2022-03-08T01:25:04.880578Z"
    },
    "id": "8knVYttd26h1",
    "outputId": "631738e6-1682-4751-fab1-f22dd5e7480e",
    "papermill": {
     "duration": 0.251628,
     "end_time": "2022-05-04T02:53:21.322329",
     "exception": false,
     "start_time": "2022-05-04T02:53:21.070701",
     "status": "completed"
    },
    "tags": []
   },
   "outputs": [
    {
     "data": {
      "image/png": "[encoded data removed]",
      "text/plain": [
       "<Figure size 432x288 with 1 Axes>"
      ]
     },
     "metadata": {},
     "output_type": "display_data"
    }
   ],
   "source": [
    "sns.set_theme(style=\"darkgrid\")\n",
    "sns.countplot(x=\"Cholesterol\", data=df_drug, palette=\"magma\")\n",
    "plt.xlabel('Blood Pressure')\n",
    "plt.ylabel('Total')\n",
    "plt.show()"
   ]
  },
  {
   "cell_type": "markdown",
   "id": "6121f2a0",
   "metadata": {
    "papermill": {
     "duration": 0.065165,
     "end_time": "2022-05-04T02:53:21.453075",
     "exception": false,
     "start_time": "2022-05-04T02:53:21.387910",
     "status": "completed"
    },
    "tags": []
   },
   "source": [
    "## Gender Distribution based on Drug Type "
   ]
  },
  {
   "cell_type": "code",
   "execution_count": 80,
   "id": "a870b91f",
   "metadata": {
    "execution": {
     "iopub.execute_input": "2022-05-04T02:53:21.591812Z",
     "iopub.status.busy": "2022-05-04T02:53:21.591101Z",
     "iopub.status.idle": "2022-05-04T02:53:21.996703Z",
     "shell.execute_reply": "2022-05-04T02:53:21.996192Z",
     "shell.execute_reply.started": "2022-03-08T01:25:05.069947Z"
    },
    "id": "T47gXdj9pxD8",
    "outputId": "613b2fc7-715a-4d1e-b1c6-97c8aa8188c0",
    "papermill": {
     "duration": 0.47819,
     "end_time": "2022-05-04T02:53:21.996859",
     "exception": false,
     "start_time": "2022-05-04T02:53:21.518669",
     "status": "completed"
    },
    "tags": []
   },
   "outputs": [
    {
     "data": {
      "image/png": "[encoded data removed]",
      "text/plain": [
       "<Figure size 864x360 with 1 Axes>"
      ]
     },
     "metadata": {},
     "output_type": "display_data"
    }
   ],
   "source": [
    "pd.crosstab(df_drug.Sex,df_drug.Drug).plot(kind=\"bar\",figsize=(12,5),color=['#003f5c','#ffa600','#58508d','#bc5090','#ff6361'])\n",
    "plt.title('Gender distribution based on Drug type')\n",
    "plt.xlabel('Gender')\n",
    "plt.xticks(rotation=0)\n",
    "plt.ylabel('Frequency')\n",
    "plt.show()"
   ]
  },
  {
   "cell_type": "markdown",
   "id": "f91a0e11",
   "metadata": {
    "papermill": {
     "duration": 0.06602,
     "end_time": "2022-05-04T02:53:22.130021",
     "exception": false,
     "start_time": "2022-05-04T02:53:22.064001",
     "status": "completed"
    },
    "tags": []
   },
   "source": [
    "## Blood Pressure Distribution based on Cholesetrol"
   ]
  },
  {
   "cell_type": "code",
   "execution_count": 81,
   "id": "4b0b0054",
   "metadata": {
    "execution": {
     "iopub.execute_input": "2022-05-04T02:53:22.269081Z",
     "iopub.status.busy": "2022-05-04T02:53:22.268387Z",
     "iopub.status.idle": "2022-05-04T02:53:22.545829Z",
     "shell.execute_reply": "2022-05-04T02:53:22.546315Z",
     "shell.execute_reply.started": "2022-03-08T01:25:05.486231Z"
    },
    "id": "bg01FIf75DRW",
    "outputId": "8229c516-627c-417c-f202-75eada15c5ed",
    "papermill": {
     "duration": 0.349573,
     "end_time": "2022-05-04T02:53:22.546494",
     "exception": false,
     "start_time": "2022-05-04T02:53:22.196921",
     "status": "completed"
    },
    "tags": []
   },
   "outputs": [
    {
     "data": {
      "image/png": "[encoded data removed]",
      "text/plain": [
       "<Figure size 1080x432 with 1 Axes>"
      ]
     },
     "metadata": {},
     "output_type": "display_data"
    }
   ],
   "source": [
    "pd.crosstab(df_drug.BP,df_drug.Cholesterol).plot(kind=\"bar\",figsize=(15,6),color=['#6929c4','#1192e8'])\n",
    "plt.title('Blood Pressure distribution based on Cholesterol')\n",
    "plt.xlabel('Blood Pressure')\n",
    "plt.xticks(rotation=0)\n",
    "plt.ylabel('Frequency')\n",
    "plt.show()"
   ]
  },
  {
   "cell_type": "markdown",
   "id": "1d2be1c8",
   "metadata": {
    "papermill": {
     "duration": 0.067148,
     "end_time": "2022-05-04T02:53:22.680625",
     "exception": false,
     "start_time": "2022-05-04T02:53:22.613477",
     "status": "completed"
    },
    "tags": []
   },
   "source": [
    "##  Sodium to Potassium Distribution based on Gender and Age "
   ]
  },
  {
   "cell_type": "code",
   "execution_count": 82,
   "id": "dc27c7cf",
   "metadata": {
    "execution": {
     "iopub.execute_input": "2022-05-04T02:53:22.861221Z",
     "iopub.status.busy": "2022-05-04T02:53:22.859970Z",
     "iopub.status.idle": "2022-05-04T02:53:23.200939Z",
     "shell.execute_reply": "2022-05-04T02:53:23.200359Z",
     "shell.execute_reply.started": "2022-03-08T01:25:05.776497Z"
    },
    "id": "Lz49pj9X7ZTS",
    "outputId": "6ec43790-0bbd-40b6-f86d-1d582b34f11a",
    "papermill": {
     "duration": 0.441498,
     "end_time": "2022-05-04T02:53:23.201115",
     "exception": false,
     "start_time": "2022-05-04T02:53:22.759617",
     "status": "completed"
    },
    "tags": []
   },
   "outputs": [
    {
     "data": {
      "image/png": "[encoded data removed]",
      "text/plain": [
       "<Figure size 432x288 with 1 Axes>"
      ]
     },
     "metadata": {},
     "output_type": "display_data"
    }
   ],
   "source": [
    "plt.scatter(x=df_drug.Age[df_drug.Sex=='F'], y=df_drug.Na_to_K[(df_drug.Sex=='F')], c=\"Blue\")\n",
    "plt.scatter(x=df_drug.Age[df_drug.Sex=='M'], y=df_drug.Na_to_K[(df_drug.Sex=='M')], c=\"Orange\")\n",
    "plt.legend([\"Female\", \"Male\"])\n",
    "plt.xlabel(\"Age\")\n",
    "plt.ylabel(\"Na_to_K\")\n",
    "plt.show()"
   ]
  },
  {
   "cell_type": "markdown",
   "id": "726facc5",
   "metadata": {
    "id": "vwJ_hPlzl32j",
    "papermill": {
     "duration": 0.072234,
     "end_time": "2022-05-04T02:53:23.346483",
     "exception": false,
     "start_time": "2022-05-04T02:53:23.274249",
     "status": "completed"
    },
    "tags": []
   },
   "source": [
    "#  Dataset Preparation"
   ]
  },
  {
   "cell_type": "markdown",
   "id": "e1123cac",
   "metadata": {
    "id": "ozM4xmd5mSrn",
    "papermill": {
     "duration": 0.069097,
     "end_time": "2022-05-04T02:53:23.486753",
     "exception": false,
     "start_time": "2022-05-04T02:53:23.417656",
     "status": "completed"
    },
    "tags": []
   },
   "source": [
    "## Data Binning "
   ]
  },
  {
   "cell_type": "code",
   "execution_count": 86,
   "id": "22422ebd",
   "metadata": {},
   "outputs": [
    {
     "data": {
      "text/plain": [
       "0      23\n",
       "1      47\n",
       "2      47\n",
       "3      28\n",
       "4      61\n",
       "       ..\n",
       "195    56\n",
       "196    16\n",
       "197    52\n",
       "198    23\n",
       "199    40\n",
       "Name: Age, Length: 200, dtype: int64"
      ]
     },
     "execution_count": 86,
     "metadata": {},
     "output_type": "execute_result"
    }
   ],
   "source": [
    "df_drug.Age"
   ]
  },
  {
   "cell_type": "markdown",
   "id": "e467edb2",
   "metadata": {
    "id": "NOZNMiUsm058",
    "papermill": {
     "duration": 0.071107,
     "end_time": "2022-05-04T02:53:23.627940",
     "exception": false,
     "start_time": "2022-05-04T02:53:23.556833",
     "status": "completed"
    },
    "tags": []
   },
   "source": [
    "###  Age \n",
    "The age will be divided into **7 age categories**:\n",
    "*  Below 20 y.o.\n",
    "*  20 - 29 y.o.\n",
    "*  30 - 39 y.o.\n",
    "*  40 - 49 y.o.\n",
    "*  50 - 59 y.o.\n",
    "*  60 - 69 y.o.\n",
    "*  Above 70."
   ]
  },
  {
   "cell_type": "code",
   "execution_count": 87,
   "id": "908a3aa0",
   "metadata": {
    "execution": {
     "iopub.execute_input": "2022-05-04T02:53:23.774584Z",
     "iopub.status.busy": "2022-05-04T02:53:23.767281Z",
     "iopub.status.idle": "2022-05-04T02:53:23.776406Z",
     "shell.execute_reply": "2022-05-04T02:53:23.776852Z",
     "shell.execute_reply.started": "2022-03-08T01:25:06.125239Z"
    },
    "id": "CDg1nDQamzvu",
    "papermill": {
     "duration": 0.080917,
     "end_time": "2022-05-04T02:53:23.777051",
     "exception": false,
     "start_time": "2022-05-04T02:53:23.696134",
     "status": "completed"
    },
    "tags": []
   },
   "outputs": [],
   "source": [
    "bin_age = [0, 19, 29, 39, 49, 59, 69, 80]\n",
    "category_age = ['<20s', '20s', '30s', '40s', '50s', '60s', '>60s']\n",
    "df_drug['Age_binned'] = pd.cut(df_drug['Age'], bins=bin_age, labels=category_age)\n",
    "df_drug = df_drug.drop(['Age'], axis = 1)"
   ]
  },
  {
   "cell_type": "markdown",
   "id": "12ab97a9",
   "metadata": {
    "id": "3CcOt0Ilm4C8",
    "papermill": {
     "duration": 0.069649,
     "end_time": "2022-05-04T02:53:23.915013",
     "exception": false,
     "start_time": "2022-05-04T02:53:23.845364",
     "status": "completed"
    },
    "tags": []
   },
   "source": [
    "### Na_to_K\n",
    "The chemical ratio will be divided into **4 categories**:\n",
    "*  Below 10.\n",
    "*  10 - 20.\n",
    "*  20 - 30.\n",
    "*  Above 30."
   ]
  },
  {
   "cell_type": "code",
   "execution_count": 88,
   "id": "b9e9a48d",
   "metadata": {
    "execution": {
     "iopub.execute_input": "2022-05-04T02:53:24.064225Z",
     "iopub.status.busy": "2022-05-04T02:53:24.057040Z",
     "iopub.status.idle": "2022-05-04T02:53:24.066950Z",
     "shell.execute_reply": "2022-05-04T02:53:24.066286Z",
     "shell.execute_reply.started": "2022-03-08T01:25:06.13646Z"
    },
    "id": "bhoBfPl3m9zN",
    "papermill": {
     "duration": 0.082757,
     "end_time": "2022-05-04T02:53:24.067126",
     "exception": false,
     "start_time": "2022-05-04T02:53:23.984369",
     "status": "completed"
    },
    "tags": []
   },
   "outputs": [],
   "source": [
    "bin_NatoK = [0, 9, 19, 29, 50]\n",
    "category_NatoK = ['<10', '10-20', '20-30', '>30']\n",
    "df_drug['Na_to_K_binned'] = pd.cut(df_drug['Na_to_K'], bins=bin_NatoK, labels=category_NatoK)\n",
    "df_drug = df_drug.drop(['Na_to_K'], axis = 1)"
   ]
  },
  {
   "cell_type": "code",
   "execution_count": 89,
   "id": "3b3d2579",
   "metadata": {},
   "outputs": [
    {
     "data": {
      "text/html": [
       "<div>\n",
       "<style scoped>\n",
       "    .dataframe tbody tr th:only-of-type {\n",
       "        vertical-align: middle;\n",
       "    }\n",
       "\n",
       "    .dataframe tbody tr th {\n",
       "        vertical-align: top;\n",
       "    }\n",
       "\n",
       "    .dataframe thead th {\n",
       "        text-align: right;\n",
       "    }\n",
       "</style>\n",
       "<table border=\"1\" class=\"dataframe\">\n",
       "  <thead>\n",
       "    <tr style=\"text-align: right;\">\n",
       "      <th></th>\n",
       "      <th>Sex</th>\n",
       "      <th>BP</th>\n",
       "      <th>Cholesterol</th>\n",
       "      <th>Drug</th>\n",
       "      <th>Age_binned</th>\n",
       "      <th>Na_to_K_binned</th>\n",
       "    </tr>\n",
       "  </thead>\n",
       "  <tbody>\n",
       "    <tr>\n",
       "      <th>0</th>\n",
       "      <td>F</td>\n",
       "      <td>HIGH</td>\n",
       "      <td>HIGH</td>\n",
       "      <td>drugY</td>\n",
       "      <td>20s</td>\n",
       "      <td>20-30</td>\n",
       "    </tr>\n",
       "    <tr>\n",
       "      <th>1</th>\n",
       "      <td>M</td>\n",
       "      <td>LOW</td>\n",
       "      <td>HIGH</td>\n",
       "      <td>drugC</td>\n",
       "      <td>40s</td>\n",
       "      <td>10-20</td>\n",
       "    </tr>\n",
       "    <tr>\n",
       "      <th>2</th>\n",
       "      <td>M</td>\n",
       "      <td>LOW</td>\n",
       "      <td>HIGH</td>\n",
       "      <td>drugC</td>\n",
       "      <td>40s</td>\n",
       "      <td>10-20</td>\n",
       "    </tr>\n",
       "    <tr>\n",
       "      <th>3</th>\n",
       "      <td>F</td>\n",
       "      <td>NORMAL</td>\n",
       "      <td>HIGH</td>\n",
       "      <td>drugX</td>\n",
       "      <td>20s</td>\n",
       "      <td>&lt;10</td>\n",
       "    </tr>\n",
       "    <tr>\n",
       "      <th>4</th>\n",
       "      <td>F</td>\n",
       "      <td>LOW</td>\n",
       "      <td>HIGH</td>\n",
       "      <td>drugY</td>\n",
       "      <td>60s</td>\n",
       "      <td>10-20</td>\n",
       "    </tr>\n",
       "  </tbody>\n",
       "</table>\n",
       "</div>"
      ],
      "text/plain": [
       "  Sex      BP Cholesterol   Drug Age_binned Na_to_K_binned\n",
       "0   F    HIGH        HIGH  drugY        20s          20-30\n",
       "1   M     LOW        HIGH  drugC        40s          10-20\n",
       "2   M     LOW        HIGH  drugC        40s          10-20\n",
       "3   F  NORMAL        HIGH  drugX        20s            <10\n",
       "4   F     LOW        HIGH  drugY        60s          10-20"
      ]
     },
     "execution_count": 89,
     "metadata": {},
     "output_type": "execute_result"
    }
   ],
   "source": [
    "df_drug.head()"
   ]
  },
  {
   "cell_type": "markdown",
   "id": "85dcb1f8",
   "metadata": {
    "id": "ts4FHhNuyZ3G",
    "papermill": {
     "duration": 0.068402,
     "end_time": "2022-05-04T02:53:24.204559",
     "exception": false,
     "start_time": "2022-05-04T02:53:24.136157",
     "status": "completed"
    },
    "tags": []
   },
   "source": [
    "##  Splitting the dataset\n",
    " The dataset will be split into **70% training and 30% testing**."
   ]
  },
  {
   "cell_type": "code",
   "execution_count": 90,
   "id": "23e116c4",
   "metadata": {
    "execution": {
     "iopub.execute_input": "2022-05-04T02:53:24.345430Z",
     "iopub.status.busy": "2022-05-04T02:53:24.344798Z",
     "iopub.status.idle": "2022-05-04T02:53:24.504186Z",
     "shell.execute_reply": "2022-05-04T02:53:24.503420Z",
     "shell.execute_reply.started": "2022-03-08T01:25:06.154675Z"
    },
    "id": "8b9Slzpdycfy",
    "papermill": {
     "duration": 0.231244,
     "end_time": "2022-05-04T02:53:24.504359",
     "exception": false,
     "start_time": "2022-05-04T02:53:24.273115",
     "status": "completed"
    },
    "tags": []
   },
   "outputs": [],
   "source": [
    "from sklearn.metrics import confusion_matrix\n",
    "from sklearn.metrics import classification_report"
   ]
  },
  {
   "cell_type": "code",
   "execution_count": 92,
   "id": "064a6fbf",
   "metadata": {
    "execution": {
     "iopub.execute_input": "2022-05-04T02:53:24.647052Z",
     "iopub.status.busy": "2022-05-04T02:53:24.646375Z",
     "iopub.status.idle": "2022-05-04T02:53:24.667063Z",
     "shell.execute_reply": "2022-05-04T02:53:24.667556Z",
     "shell.execute_reply.started": "2022-03-08T01:25:06.328803Z"
    },
    "id": "8Ryn2U0Syvo5",
    "papermill": {
     "duration": 0.095304,
     "end_time": "2022-05-04T02:53:24.667742",
     "exception": false,
     "start_time": "2022-05-04T02:53:24.572438",
     "status": "completed"
    },
    "tags": []
   },
   "outputs": [],
   "source": [
    "X = df_drug.drop([\"Drug\"], axis=1)\n",
    "y = df_drug[\"Drug\"]\n",
    "\n",
    "from sklearn.model_selection import train_test_split\n",
    "X_train, X_test, y_train, y_test = train_test_split(X, y, test_size = 0.3, random_state = 0)"
   ]
  },
  {
   "cell_type": "markdown",
   "id": "03e7cec6",
   "metadata": {
    "id": "pUab4khX2beO",
    "papermill": {
     "duration": 0.071246,
     "end_time": "2022-05-04T02:53:24.809880",
     "exception": false,
     "start_time": "2022-05-04T02:53:24.738634",
     "status": "completed"
    },
    "tags": []
   },
   "source": [
    "##  Feature Engineering \n",
    " The FE method that used is **one-hot encoding**, which is **transforming categorical variables into a form that could be provided to ML algorithms to do a better prediction**."
   ]
  },
  {
   "cell_type": "code",
   "execution_count": 93,
   "id": "533be8ef",
   "metadata": {},
   "outputs": [],
   "source": [
    "from sklearn.preprocessing import OneHotEncoder"
   ]
  },
  {
   "cell_type": "code",
   "execution_count": 125,
   "id": "5a2b6544",
   "metadata": {},
   "outputs": [
    {
     "data": {
      "text/plain": [
       "array(['F', 'M'], dtype=object)"
      ]
     },
     "execution_count": 125,
     "metadata": {},
     "output_type": "execute_result"
    }
   ],
   "source": [
    "X['Sex'].unique()"
   ]
  },
  {
   "cell_type": "code",
   "execution_count": 28,
   "id": "ac5379d8",
   "metadata": {},
   "outputs": [
    {
     "data": {
      "text/plain": [
       "array(['LOW', 'NORMAL', 'HIGH'], dtype=object)"
      ]
     },
     "execution_count": 28,
     "metadata": {},
     "output_type": "execute_result"
    }
   ],
   "source": [
    "# X_train['BP'].unique()"
   ]
  },
  {
   "cell_type": "code",
   "execution_count": 29,
   "id": "674f2d10",
   "metadata": {},
   "outputs": [
    {
     "data": {
      "text/plain": [
       "array(['NORMAL', 'HIGH'], dtype=object)"
      ]
     },
     "execution_count": 29,
     "metadata": {},
     "output_type": "execute_result"
    }
   ],
   "source": [
    "# X_train['Cholesterol'].unique()"
   ]
  },
  {
   "cell_type": "code",
   "execution_count": 30,
   "id": "921dd781",
   "metadata": {},
   "outputs": [
    {
     "data": {
      "text/plain": [
       "[50s, 30s, >60s, 20s, 60s, 40s, <20s]\n",
       "Categories (7, object): [<20s < 20s < 30s < 40s < 50s < 60s < >60s]"
      ]
     },
     "execution_count": 30,
     "metadata": {},
     "output_type": "execute_result"
    }
   ],
   "source": [
    "# X_train['Age_binned'].unique()"
   ]
  },
  {
   "cell_type": "code",
   "execution_count": 31,
   "id": "1efd3c59",
   "metadata": {},
   "outputs": [
    {
     "data": {
      "text/plain": [
       "[>30, 10-20, 20-30, <10]\n",
       "Categories (4, object): [<10 < 10-20 < 20-30 < >30]"
      ]
     },
     "execution_count": 31,
     "metadata": {},
     "output_type": "execute_result"
    }
   ],
   "source": [
    "# X_train['Na_to_K_binned'].unique()"
   ]
  },
  {
   "cell_type": "code",
   "execution_count": 94,
   "id": "f00a7f6a",
   "metadata": {},
   "outputs": [
    {
     "data": {
      "text/html": [
       "<div>\n",
       "<style scoped>\n",
       "    .dataframe tbody tr th:only-of-type {\n",
       "        vertical-align: middle;\n",
       "    }\n",
       "\n",
       "    .dataframe tbody tr th {\n",
       "        vertical-align: top;\n",
       "    }\n",
       "\n",
       "    .dataframe thead th {\n",
       "        text-align: right;\n",
       "    }\n",
       "</style>\n",
       "<table border=\"1\" class=\"dataframe\">\n",
       "  <thead>\n",
       "    <tr style=\"text-align: right;\">\n",
       "      <th></th>\n",
       "      <th>Sex</th>\n",
       "      <th>BP</th>\n",
       "      <th>Cholesterol</th>\n",
       "      <th>Age_binned</th>\n",
       "      <th>Na_to_K_binned</th>\n",
       "    </tr>\n",
       "  </thead>\n",
       "  <tbody>\n",
       "    <tr>\n",
       "      <th>131</th>\n",
       "      <td>M</td>\n",
       "      <td>LOW</td>\n",
       "      <td>NORMAL</td>\n",
       "      <td>50s</td>\n",
       "      <td>&gt;30</td>\n",
       "    </tr>\n",
       "    <tr>\n",
       "      <th>96</th>\n",
       "      <td>F</td>\n",
       "      <td>LOW</td>\n",
       "      <td>HIGH</td>\n",
       "      <td>50s</td>\n",
       "      <td>&gt;30</td>\n",
       "    </tr>\n",
       "  </tbody>\n",
       "</table>\n",
       "</div>"
      ],
      "text/plain": [
       "    Sex   BP Cholesterol Age_binned Na_to_K_binned\n",
       "131   M  LOW      NORMAL        50s            >30\n",
       "96    F  LOW        HIGH        50s            >30"
      ]
     },
     "execution_count": 94,
     "metadata": {},
     "output_type": "execute_result"
    }
   ],
   "source": [
    "myTest = X_train.iloc[0:2]\n",
    "myTest"
   ]
  },
  {
   "cell_type": "code",
   "execution_count": null,
   "id": "763bcefc",
   "metadata": {},
   "outputs": [],
   "source": []
  },
  {
   "cell_type": "code",
   "execution_count": 95,
   "id": "c2fc1d51",
   "metadata": {},
   "outputs": [],
   "source": [
    "encoder=OneHotEncoder()"
   ]
  },
  {
   "cell_type": "code",
   "execution_count": 96,
   "id": "5e31be27",
   "metadata": {},
   "outputs": [],
   "source": [
    "X_train = pd.DataFrame(encoder.fit_transform(X_train).toarray())\n",
    "X_test = pd.DataFrame(encoder.fit_transform(X_test).toarray())"
   ]
  },
  {
   "cell_type": "code",
   "execution_count": null,
   "id": "1debb4c1",
   "metadata": {},
   "outputs": [],
   "source": []
  },
  {
   "cell_type": "code",
   "execution_count": 35,
   "id": "0e0a9dc9",
   "metadata": {
    "execution": {
     "iopub.execute_input": "2022-05-04T02:53:24.953841Z",
     "iopub.status.busy": "2022-05-04T02:53:24.952857Z",
     "iopub.status.idle": "2022-05-04T02:53:24.968415Z",
     "shell.execute_reply": "2022-05-04T02:53:24.968934Z",
     "shell.execute_reply.started": "2022-03-08T01:25:06.355628Z"
    },
    "id": "E_RiMVZg2bH_",
    "papermill": {
     "duration": 0.089853,
     "end_time": "2022-05-04T02:53:24.969119",
     "exception": false,
     "start_time": "2022-05-04T02:53:24.879266",
     "status": "completed"
    },
    "tags": []
   },
   "outputs": [],
   "source": [
    "# X_train = pd.get_dummies(X_train)\n",
    "# X_test = pd.get_dummies(X_test)"
   ]
  },
  {
   "cell_type": "code",
   "execution_count": 99,
   "id": "05ed21d6",
   "metadata": {
    "execution": {
     "iopub.execute_input": "2022-05-04T02:53:25.111357Z",
     "iopub.status.busy": "2022-05-04T02:53:25.110387Z",
     "iopub.status.idle": "2022-05-04T02:53:25.125401Z",
     "shell.execute_reply": "2022-05-04T02:53:25.125961Z",
     "shell.execute_reply.started": "2022-03-08T01:25:06.375644Z"
    },
    "papermill": {
     "duration": 0.088449,
     "end_time": "2022-05-04T02:53:25.126150",
     "exception": false,
     "start_time": "2022-05-04T02:53:25.037701",
     "status": "completed"
    },
    "tags": []
   },
   "outputs": [
    {
     "data": {
      "text/html": [
       "<div>\n",
       "<style scoped>\n",
       "    .dataframe tbody tr th:only-of-type {\n",
       "        vertical-align: middle;\n",
       "    }\n",
       "\n",
       "    .dataframe tbody tr th {\n",
       "        vertical-align: top;\n",
       "    }\n",
       "\n",
       "    .dataframe thead th {\n",
       "        text-align: right;\n",
       "    }\n",
       "</style>\n",
       "<table border=\"1\" class=\"dataframe\">\n",
       "  <thead>\n",
       "    <tr style=\"text-align: right;\">\n",
       "      <th></th>\n",
       "      <th>0</th>\n",
       "      <th>1</th>\n",
       "      <th>2</th>\n",
       "      <th>3</th>\n",
       "      <th>4</th>\n",
       "      <th>5</th>\n",
       "      <th>6</th>\n",
       "      <th>7</th>\n",
       "      <th>8</th>\n",
       "      <th>9</th>\n",
       "      <th>10</th>\n",
       "      <th>11</th>\n",
       "      <th>12</th>\n",
       "      <th>13</th>\n",
       "      <th>14</th>\n",
       "      <th>15</th>\n",
       "      <th>16</th>\n",
       "      <th>17</th>\n",
       "    </tr>\n",
       "  </thead>\n",
       "  <tbody>\n",
       "    <tr>\n",
       "      <th>0</th>\n",
       "      <td>0.0</td>\n",
       "      <td>1.0</td>\n",
       "      <td>0.0</td>\n",
       "      <td>1.0</td>\n",
       "      <td>0.0</td>\n",
       "      <td>0.0</td>\n",
       "      <td>1.0</td>\n",
       "      <td>0.0</td>\n",
       "      <td>0.0</td>\n",
       "      <td>0.0</td>\n",
       "      <td>1.0</td>\n",
       "      <td>0.0</td>\n",
       "      <td>0.0</td>\n",
       "      <td>0.0</td>\n",
       "      <td>0.0</td>\n",
       "      <td>0.0</td>\n",
       "      <td>0.0</td>\n",
       "      <td>1.0</td>\n",
       "    </tr>\n",
       "    <tr>\n",
       "      <th>1</th>\n",
       "      <td>1.0</td>\n",
       "      <td>0.0</td>\n",
       "      <td>0.0</td>\n",
       "      <td>1.0</td>\n",
       "      <td>0.0</td>\n",
       "      <td>1.0</td>\n",
       "      <td>0.0</td>\n",
       "      <td>0.0</td>\n",
       "      <td>0.0</td>\n",
       "      <td>0.0</td>\n",
       "      <td>1.0</td>\n",
       "      <td>0.0</td>\n",
       "      <td>0.0</td>\n",
       "      <td>0.0</td>\n",
       "      <td>0.0</td>\n",
       "      <td>0.0</td>\n",
       "      <td>0.0</td>\n",
       "      <td>1.0</td>\n",
       "    </tr>\n",
       "    <tr>\n",
       "      <th>2</th>\n",
       "      <td>1.0</td>\n",
       "      <td>0.0</td>\n",
       "      <td>0.0</td>\n",
       "      <td>0.0</td>\n",
       "      <td>1.0</td>\n",
       "      <td>1.0</td>\n",
       "      <td>0.0</td>\n",
       "      <td>0.0</td>\n",
       "      <td>0.0</td>\n",
       "      <td>0.0</td>\n",
       "      <td>1.0</td>\n",
       "      <td>0.0</td>\n",
       "      <td>0.0</td>\n",
       "      <td>0.0</td>\n",
       "      <td>1.0</td>\n",
       "      <td>0.0</td>\n",
       "      <td>0.0</td>\n",
       "      <td>0.0</td>\n",
       "    </tr>\n",
       "    <tr>\n",
       "      <th>3</th>\n",
       "      <td>1.0</td>\n",
       "      <td>0.0</td>\n",
       "      <td>1.0</td>\n",
       "      <td>0.0</td>\n",
       "      <td>0.0</td>\n",
       "      <td>0.0</td>\n",
       "      <td>1.0</td>\n",
       "      <td>0.0</td>\n",
       "      <td>1.0</td>\n",
       "      <td>0.0</td>\n",
       "      <td>0.0</td>\n",
       "      <td>0.0</td>\n",
       "      <td>0.0</td>\n",
       "      <td>0.0</td>\n",
       "      <td>0.0</td>\n",
       "      <td>1.0</td>\n",
       "      <td>0.0</td>\n",
       "      <td>0.0</td>\n",
       "    </tr>\n",
       "    <tr>\n",
       "      <th>4</th>\n",
       "      <td>1.0</td>\n",
       "      <td>0.0</td>\n",
       "      <td>0.0</td>\n",
       "      <td>1.0</td>\n",
       "      <td>0.0</td>\n",
       "      <td>0.0</td>\n",
       "      <td>1.0</td>\n",
       "      <td>0.0</td>\n",
       "      <td>0.0</td>\n",
       "      <td>0.0</td>\n",
       "      <td>0.0</td>\n",
       "      <td>0.0</td>\n",
       "      <td>0.0</td>\n",
       "      <td>1.0</td>\n",
       "      <td>1.0</td>\n",
       "      <td>0.0</td>\n",
       "      <td>0.0</td>\n",
       "      <td>0.0</td>\n",
       "    </tr>\n",
       "  </tbody>\n",
       "</table>\n",
       "</div>"
      ],
      "text/plain": [
       "     0    1    2    3    4    5    6    7    8    9   10   11   12   13   14  \\\n",
       "0  0.0  1.0  0.0  1.0  0.0  0.0  1.0  0.0  0.0  0.0  1.0  0.0  0.0  0.0  0.0   \n",
       "1  1.0  0.0  0.0  1.0  0.0  1.0  0.0  0.0  0.0  0.0  1.0  0.0  0.0  0.0  0.0   \n",
       "2  1.0  0.0  0.0  0.0  1.0  1.0  0.0  0.0  0.0  0.0  1.0  0.0  0.0  0.0  1.0   \n",
       "3  1.0  0.0  1.0  0.0  0.0  0.0  1.0  0.0  1.0  0.0  0.0  0.0  0.0  0.0  0.0   \n",
       "4  1.0  0.0  0.0  1.0  0.0  0.0  1.0  0.0  0.0  0.0  0.0  0.0  0.0  1.0  1.0   \n",
       "\n",
       "    15   16   17  \n",
       "0  0.0  0.0  1.0  \n",
       "1  0.0  0.0  1.0  \n",
       "2  0.0  0.0  0.0  \n",
       "3  1.0  0.0  0.0  \n",
       "4  0.0  0.0  0.0  "
      ]
     },
     "execution_count": 99,
     "metadata": {},
     "output_type": "execute_result"
    }
   ],
   "source": [
    "X_train.head()"
   ]
  },
  {
   "cell_type": "code",
   "execution_count": 100,
   "id": "57a1459b",
   "metadata": {
    "execution": {
     "iopub.execute_input": "2022-05-04T02:53:25.267751Z",
     "iopub.status.busy": "2022-05-04T02:53:25.266782Z",
     "iopub.status.idle": "2022-05-04T02:53:25.282213Z",
     "shell.execute_reply": "2022-05-04T02:53:25.281660Z",
     "shell.execute_reply.started": "2022-03-08T01:25:06.391737Z"
    },
    "papermill": {
     "duration": 0.08758,
     "end_time": "2022-05-04T02:53:25.282363",
     "exception": false,
     "start_time": "2022-05-04T02:53:25.194783",
     "status": "completed"
    },
    "tags": []
   },
   "outputs": [
    {
     "data": {
      "text/html": [
       "<div>\n",
       "<style scoped>\n",
       "    .dataframe tbody tr th:only-of-type {\n",
       "        vertical-align: middle;\n",
       "    }\n",
       "\n",
       "    .dataframe tbody tr th {\n",
       "        vertical-align: top;\n",
       "    }\n",
       "\n",
       "    .dataframe thead th {\n",
       "        text-align: right;\n",
       "    }\n",
       "</style>\n",
       "<table border=\"1\" class=\"dataframe\">\n",
       "  <thead>\n",
       "    <tr style=\"text-align: right;\">\n",
       "      <th></th>\n",
       "      <th>0</th>\n",
       "      <th>1</th>\n",
       "      <th>2</th>\n",
       "      <th>3</th>\n",
       "      <th>4</th>\n",
       "      <th>5</th>\n",
       "      <th>6</th>\n",
       "      <th>7</th>\n",
       "      <th>8</th>\n",
       "      <th>9</th>\n",
       "      <th>10</th>\n",
       "      <th>11</th>\n",
       "      <th>12</th>\n",
       "      <th>13</th>\n",
       "      <th>14</th>\n",
       "      <th>15</th>\n",
       "      <th>16</th>\n",
       "      <th>17</th>\n",
       "    </tr>\n",
       "  </thead>\n",
       "  <tbody>\n",
       "    <tr>\n",
       "      <th>0</th>\n",
       "      <td>0.0</td>\n",
       "      <td>1.0</td>\n",
       "      <td>0.0</td>\n",
       "      <td>1.0</td>\n",
       "      <td>0.0</td>\n",
       "      <td>1.0</td>\n",
       "      <td>0.0</td>\n",
       "      <td>1.0</td>\n",
       "      <td>0.0</td>\n",
       "      <td>0.0</td>\n",
       "      <td>0.0</td>\n",
       "      <td>0.0</td>\n",
       "      <td>0.0</td>\n",
       "      <td>0.0</td>\n",
       "      <td>0.0</td>\n",
       "      <td>0.0</td>\n",
       "      <td>1.0</td>\n",
       "      <td>0.0</td>\n",
       "    </tr>\n",
       "    <tr>\n",
       "      <th>1</th>\n",
       "      <td>1.0</td>\n",
       "      <td>0.0</td>\n",
       "      <td>0.0</td>\n",
       "      <td>0.0</td>\n",
       "      <td>1.0</td>\n",
       "      <td>1.0</td>\n",
       "      <td>0.0</td>\n",
       "      <td>1.0</td>\n",
       "      <td>0.0</td>\n",
       "      <td>0.0</td>\n",
       "      <td>0.0</td>\n",
       "      <td>0.0</td>\n",
       "      <td>0.0</td>\n",
       "      <td>0.0</td>\n",
       "      <td>1.0</td>\n",
       "      <td>0.0</td>\n",
       "      <td>0.0</td>\n",
       "      <td>0.0</td>\n",
       "    </tr>\n",
       "    <tr>\n",
       "      <th>2</th>\n",
       "      <td>0.0</td>\n",
       "      <td>1.0</td>\n",
       "      <td>0.0</td>\n",
       "      <td>1.0</td>\n",
       "      <td>0.0</td>\n",
       "      <td>1.0</td>\n",
       "      <td>0.0</td>\n",
       "      <td>0.0</td>\n",
       "      <td>0.0</td>\n",
       "      <td>1.0</td>\n",
       "      <td>0.0</td>\n",
       "      <td>0.0</td>\n",
       "      <td>0.0</td>\n",
       "      <td>0.0</td>\n",
       "      <td>0.0</td>\n",
       "      <td>1.0</td>\n",
       "      <td>0.0</td>\n",
       "      <td>0.0</td>\n",
       "    </tr>\n",
       "    <tr>\n",
       "      <th>3</th>\n",
       "      <td>0.0</td>\n",
       "      <td>1.0</td>\n",
       "      <td>1.0</td>\n",
       "      <td>0.0</td>\n",
       "      <td>0.0</td>\n",
       "      <td>0.0</td>\n",
       "      <td>1.0</td>\n",
       "      <td>1.0</td>\n",
       "      <td>0.0</td>\n",
       "      <td>0.0</td>\n",
       "      <td>0.0</td>\n",
       "      <td>0.0</td>\n",
       "      <td>0.0</td>\n",
       "      <td>0.0</td>\n",
       "      <td>0.0</td>\n",
       "      <td>0.0</td>\n",
       "      <td>0.0</td>\n",
       "      <td>1.0</td>\n",
       "    </tr>\n",
       "    <tr>\n",
       "      <th>4</th>\n",
       "      <td>0.0</td>\n",
       "      <td>1.0</td>\n",
       "      <td>0.0</td>\n",
       "      <td>0.0</td>\n",
       "      <td>1.0</td>\n",
       "      <td>1.0</td>\n",
       "      <td>0.0</td>\n",
       "      <td>1.0</td>\n",
       "      <td>0.0</td>\n",
       "      <td>0.0</td>\n",
       "      <td>0.0</td>\n",
       "      <td>0.0</td>\n",
       "      <td>0.0</td>\n",
       "      <td>0.0</td>\n",
       "      <td>0.0</td>\n",
       "      <td>1.0</td>\n",
       "      <td>0.0</td>\n",
       "      <td>0.0</td>\n",
       "    </tr>\n",
       "  </tbody>\n",
       "</table>\n",
       "</div>"
      ],
      "text/plain": [
       "     0    1    2    3    4    5    6    7    8    9   10   11   12   13   14  \\\n",
       "0  0.0  1.0  0.0  1.0  0.0  1.0  0.0  1.0  0.0  0.0  0.0  0.0  0.0  0.0  0.0   \n",
       "1  1.0  0.0  0.0  0.0  1.0  1.0  0.0  1.0  0.0  0.0  0.0  0.0  0.0  0.0  1.0   \n",
       "2  0.0  1.0  0.0  1.0  0.0  1.0  0.0  0.0  0.0  1.0  0.0  0.0  0.0  0.0  0.0   \n",
       "3  0.0  1.0  1.0  0.0  0.0  0.0  1.0  1.0  0.0  0.0  0.0  0.0  0.0  0.0  0.0   \n",
       "4  0.0  1.0  0.0  0.0  1.0  1.0  0.0  1.0  0.0  0.0  0.0  0.0  0.0  0.0  0.0   \n",
       "\n",
       "    15   16   17  \n",
       "0  0.0  1.0  0.0  \n",
       "1  0.0  0.0  0.0  \n",
       "2  1.0  0.0  0.0  \n",
       "3  0.0  0.0  1.0  \n",
       "4  1.0  0.0  0.0  "
      ]
     },
     "execution_count": 100,
     "metadata": {},
     "output_type": "execute_result"
    }
   ],
   "source": [
    "X_test.head()"
   ]
  },
  {
   "cell_type": "markdown",
   "id": "1f7b05b7",
   "metadata": {
    "id": "Y17SOiU8kz5K",
    "papermill": {
     "duration": 0.070309,
     "end_time": "2022-05-04T02:53:25.424375",
     "exception": false,
     "start_time": "2022-05-04T02:53:25.354066",
     "status": "completed"
    },
    "tags": []
   },
   "source": [
    "##  SMOTE Technique \n",
    "(Synthetic Minority Oversampling Technique)\n",
    "\n",
    " Since the number of 'DrugY' is more than other types of drugs, **oversampling is carried out to avoid overfitting**."
   ]
  },
  {
   "cell_type": "code",
   "execution_count": 102,
   "id": "ea7d582d",
   "metadata": {
    "execution": {
     "iopub.execute_input": "2022-05-04T02:53:25.569410Z",
     "iopub.status.busy": "2022-05-04T02:53:25.567504Z",
     "iopub.status.idle": "2022-05-04T02:53:25.895522Z",
     "shell.execute_reply": "2022-05-04T02:53:25.896100Z",
     "shell.execute_reply.started": "2022-03-08T01:25:06.420291Z"
    },
    "id": "_dGygsNalXbp",
    "outputId": "2f06a057-c6f4-4d90-92b0-322fe7ea2b3e",
    "papermill": {
     "duration": 0.402271,
     "end_time": "2022-05-04T02:53:25.896275",
     "exception": false,
     "start_time": "2022-05-04T02:53:25.494004",
     "status": "completed"
    },
    "tags": []
   },
   "outputs": [],
   "source": [
    "from imblearn.over_sampling import SMOTE\n",
    "X_train, y_train = SMOTE().fit_resample(X_train, y_train)"
   ]
  },
  {
   "cell_type": "code",
   "execution_count": 103,
   "id": "078b60cb",
   "metadata": {
    "execution": {
     "iopub.execute_input": "2022-05-04T02:53:26.040017Z",
     "iopub.status.busy": "2022-05-04T02:53:26.039365Z",
     "iopub.status.idle": "2022-05-04T02:53:26.249515Z",
     "shell.execute_reply": "2022-05-04T02:53:26.250112Z",
     "shell.execute_reply.started": "2022-03-08T01:25:06.777236Z"
    },
    "id": "x8SkcI_qlxQ2",
    "outputId": "60c3a390-768a-4326-bba0-20dd54439843",
    "papermill": {
     "duration": 0.282954,
     "end_time": "2022-05-04T02:53:26.250298",
     "exception": false,
     "start_time": "2022-05-04T02:53:25.967344",
     "status": "completed"
    },
    "tags": []
   },
   "outputs": [
    {
     "data": {
      "image/png": "[encoded data removed]",
      "text/plain": [
       "<Figure size 432x288 with 1 Axes>"
      ]
     },
     "metadata": {},
     "output_type": "display_data"
    }
   ],
   "source": [
    "sns.set_theme(style=\"darkgrid\")\n",
    "sns.countplot(y=y_train, data=df_drug, palette=\"mako_r\")\n",
    "plt.ylabel('Drug Type')\n",
    "plt.xlabel('Total')\n",
    "plt.show()"
   ]
  },
  {
   "cell_type": "markdown",
   "id": "7b958c0a",
   "metadata": {
    "papermill": {
     "duration": 0.080296,
     "end_time": "2022-05-04T02:53:26.414051",
     "exception": false,
     "start_time": "2022-05-04T02:53:26.333755",
     "status": "completed"
    },
    "tags": []
   },
   "source": [
    " As can be seen, the distrubtion of drug type are now balanced."
   ]
  },
  {
   "cell_type": "markdown",
   "id": "8d25b071",
   "metadata": {
    "id": "ZdHv3O78nKZu",
    "papermill": {
     "duration": 0.070394,
     "end_time": "2022-05-04T02:53:26.556771",
     "exception": false,
     "start_time": "2022-05-04T02:53:26.486377",
     "status": "completed"
    },
    "tags": []
   },
   "source": [
    "# Models "
   ]
  },
  {
   "cell_type": "markdown",
   "id": "432bc190",
   "metadata": {
    "id": "Zj2R6eVonNpv",
    "papermill": {
     "duration": 0.069393,
     "end_time": "2022-05-04T02:53:26.696188",
     "exception": false,
     "start_time": "2022-05-04T02:53:26.626795",
     "status": "completed"
    },
    "tags": []
   },
   "source": [
    "## Logistic Regression"
   ]
  },
  {
   "cell_type": "code",
   "execution_count": 104,
   "id": "4457b76d",
   "metadata": {
    "execution": {
     "iopub.execute_input": "2022-05-04T02:53:26.840093Z",
     "iopub.status.busy": "2022-05-04T02:53:26.839029Z",
     "iopub.status.idle": "2022-05-04T02:53:26.879340Z",
     "shell.execute_reply": "2022-05-04T02:53:26.878739Z",
     "shell.execute_reply.started": "2022-03-08T01:25:07.045415Z"
    },
    "id": "d5s0LhCOnSqn",
    "outputId": "428d6014-59cb-4322-836e-e5c7efaa092e",
    "papermill": {
     "duration": 0.113548,
     "end_time": "2022-05-04T02:53:26.879483",
     "exception": false,
     "start_time": "2022-05-04T02:53:26.765935",
     "status": "completed"
    },
    "tags": []
   },
   "outputs": [
    {
     "name": "stdout",
     "output_type": "stream",
     "text": [
      "              precision    recall  f1-score   support\n",
      "\n",
      "       drugA       0.62      1.00      0.77         5\n",
      "       drugB       0.75      1.00      0.86         3\n",
      "       drugC       0.67      1.00      0.80         4\n",
      "       drugX       0.82      1.00      0.90        18\n",
      "       drugY       1.00      0.67      0.80        30\n",
      "\n",
      "    accuracy                           0.83        60\n",
      "   macro avg       0.77      0.93      0.83        60\n",
      "weighted avg       0.88      0.83      0.83        60\n",
      "\n",
      "[[ 5  0  0  0  0]\n",
      " [ 0  3  0  0  0]\n",
      " [ 0  0  4  0  0]\n",
      " [ 0  0  0 18  0]\n",
      " [ 3  1  2  4 20]]\n",
      "Logistic Regression accuracy is: 83.33%\n"
     ]
    }
   ],
   "source": [
    "from sklearn.linear_model import LogisticRegression\n",
    "LRclassifier = LogisticRegression(solver='liblinear', max_iter=5000)\n",
    "LRclassifier.fit(X_train, y_train)\n",
    "\n",
    "y_pred = LRclassifier.predict(X_test)\n",
    "\n",
    "print(classification_report(y_test, y_pred))\n",
    "print(confusion_matrix(y_test, y_pred))\n",
    "\n",
    "from sklearn.metrics import accuracy_score\n",
    "LRAcc = accuracy_score(y_pred,y_test)\n",
    "print('Logistic Regression accuracy is: {:.2f}%'.format(LRAcc*100))"
   ]
  },
  {
   "cell_type": "markdown",
   "id": "a9b9d7b4",
   "metadata": {
    "id": "IMVGDivBnTCN",
    "papermill": {
     "duration": 0.069866,
     "end_time": "2022-05-04T02:53:27.019892",
     "exception": false,
     "start_time": "2022-05-04T02:53:26.950026",
     "status": "completed"
    },
    "tags": []
   },
   "source": [
    "##  K Neighbours"
   ]
  },
  {
   "cell_type": "code",
   "execution_count": 105,
   "id": "87d9e827",
   "metadata": {
    "execution": {
     "iopub.execute_input": "2022-05-04T02:53:27.172960Z",
     "iopub.status.busy": "2022-05-04T02:53:27.171889Z",
     "iopub.status.idle": "2022-05-04T02:53:27.185732Z",
     "shell.execute_reply": "2022-05-04T02:53:27.186241Z",
     "shell.execute_reply.started": "2022-03-08T01:25:07.093409Z"
    },
    "papermill": {
     "duration": 0.09542,
     "end_time": "2022-05-04T02:53:27.186418",
     "exception": false,
     "start_time": "2022-05-04T02:53:27.090998",
     "status": "completed"
    },
    "tags": []
   },
   "outputs": [
    {
     "name": "stdout",
     "output_type": "stream",
     "text": [
      "              precision    recall  f1-score   support\n",
      "\n",
      "       drugA       0.22      0.40      0.29         5\n",
      "       drugB       0.33      0.67      0.44         3\n",
      "       drugC       0.36      1.00      0.53         4\n",
      "       drugX       0.65      0.83      0.73        18\n",
      "       drugY       0.82      0.30      0.44        30\n",
      "\n",
      "    accuracy                           0.53        60\n",
      "   macro avg       0.48      0.64      0.49        60\n",
      "weighted avg       0.66      0.53      0.52        60\n",
      "\n",
      "[[ 2  1  0  0  2]\n",
      " [ 1  2  0  0  0]\n",
      " [ 0  0  4  0  0]\n",
      " [ 0  0  3 15  0]\n",
      " [ 6  3  4  8  9]]\n",
      "K Neighbours accuracy is: 53.33%\n"
     ]
    }
   ],
   "source": [
    "from sklearn.neighbors import KNeighborsClassifier\n",
    "KNclassifier = KNeighborsClassifier(n_neighbors=20)\n",
    "KNclassifier.fit(X_train, y_train)\n",
    "\n",
    "y_pred = KNclassifier.predict(X_test)\n",
    "\n",
    "print(classification_report(y_test, y_pred))\n",
    "print(confusion_matrix(y_test, y_pred))\n",
    "\n",
    "from sklearn.metrics import accuracy_score\n",
    "KNAcc = accuracy_score(y_pred,y_test)\n",
    "print('K Neighbours accuracy is: {:.2f}%'.format(KNAcc*100))"
   ]
  },
  {
   "cell_type": "code",
   "execution_count": 106,
   "id": "e1058dc2",
   "metadata": {
    "execution": {
     "iopub.execute_input": "2022-05-04T02:53:27.330216Z",
     "iopub.status.busy": "2022-05-04T02:53:27.329583Z",
     "iopub.status.idle": "2022-05-04T02:53:27.917687Z",
     "shell.execute_reply": "2022-05-04T02:53:27.918184Z",
     "shell.execute_reply.started": "2022-03-08T01:25:07.120338Z"
    },
    "papermill": {
     "duration": 0.661607,
     "end_time": "2022-05-04T02:53:27.918361",
     "exception": false,
     "start_time": "2022-05-04T02:53:27.256754",
     "status": "completed"
    },
    "tags": []
   },
   "outputs": [
    {
     "data": {
      "image/png": "[encoded data removed]",
      "text/plain": [
       "<Figure size 432x288 with 1 Axes>"
      ]
     },
     "metadata": {},
     "output_type": "display_data"
    },
    {
     "name": "stdout",
     "output_type": "stream",
     "text": [
      "KNN Acc Max 68.33%\n"
     ]
    }
   ],
   "source": [
    "scoreListknn = []\n",
    "for i in range(1,30):\n",
    "    KNclassifier = KNeighborsClassifier(n_neighbors = i)\n",
    "    KNclassifier.fit(X_train, y_train)\n",
    "    scoreListknn.append(KNclassifier.score(X_test, y_test))\n",
    "    \n",
    "plt.plot(range(1,30), scoreListknn)\n",
    "plt.xticks(np.arange(1,30,1))\n",
    "plt.xlabel(\"K value\")\n",
    "plt.ylabel(\"Score\")\n",
    "plt.show()\n",
    "KNAccMax = max(scoreListknn)\n",
    "print(\"KNN Acc Max {:.2f}%\".format(KNAccMax*100))"
   ]
  },
  {
   "cell_type": "markdown",
   "id": "30f501ee",
   "metadata": {
    "id": "2D1sczYQneQZ",
    "papermill": {
     "duration": 0.072561,
     "end_time": "2022-05-04T02:53:28.063558",
     "exception": false,
     "start_time": "2022-05-04T02:53:27.990997",
     "status": "completed"
    },
    "tags": []
   },
   "source": [
    "## Support Vector Machine (SVM)"
   ]
  },
  {
   "cell_type": "code",
   "execution_count": 107,
   "id": "a207827a",
   "metadata": {
    "execution": {
     "iopub.execute_input": "2022-05-04T02:53:28.212747Z",
     "iopub.status.busy": "2022-05-04T02:53:28.212102Z",
     "iopub.status.idle": "2022-05-04T02:53:28.240595Z",
     "shell.execute_reply": "2022-05-04T02:53:28.241221Z",
     "shell.execute_reply.started": "2022-03-08T01:25:07.761703Z"
    },
    "id": "OF7hCd8dnhQB",
    "outputId": "22fedec4-446f-4b21-dd50-772f6d039000",
    "papermill": {
     "duration": 0.105037,
     "end_time": "2022-05-04T02:53:28.241450",
     "exception": false,
     "start_time": "2022-05-04T02:53:28.136413",
     "status": "completed"
    },
    "tags": []
   },
   "outputs": [
    {
     "name": "stdout",
     "output_type": "stream",
     "text": [
      "              precision    recall  f1-score   support\n",
      "\n",
      "       drugA       0.71      1.00      0.83         5\n",
      "       drugB       0.75      1.00      0.86         3\n",
      "       drugC       0.67      1.00      0.80         4\n",
      "       drugX       0.82      1.00      0.90        18\n",
      "       drugY       1.00      0.70      0.82        30\n",
      "\n",
      "    accuracy                           0.85        60\n",
      "   macro avg       0.79      0.94      0.84        60\n",
      "weighted avg       0.89      0.85      0.85        60\n",
      "\n",
      "[[ 5  0  0  0  0]\n",
      " [ 0  3  0  0  0]\n",
      " [ 0  0  4  0  0]\n",
      " [ 0  0  0 18  0]\n",
      " [ 2  1  2  4 21]]\n",
      "SVC accuracy is: 85.00%\n"
     ]
    }
   ],
   "source": [
    "from sklearn.svm import SVC\n",
    "SVCclassifier = SVC(kernel='linear', max_iter=251)\n",
    "SVCclassifier.fit(X_train, y_train)\n",
    "\n",
    "y_pred = SVCclassifier.predict(X_test)\n",
    "\n",
    "print(classification_report(y_test, y_pred))\n",
    "print(confusion_matrix(y_test, y_pred))\n",
    "\n",
    "from sklearn.metrics import accuracy_score\n",
    "SVCAcc = accuracy_score(y_pred,y_test)\n",
    "print('SVC accuracy is: {:.2f}%'.format(SVCAcc*100))"
   ]
  },
  {
   "cell_type": "markdown",
   "id": "491a5e24",
   "metadata": {
    "id": "e9WsQ86xninn",
    "papermill": {
     "duration": 0.073019,
     "end_time": "2022-05-04T02:53:28.387869",
     "exception": false,
     "start_time": "2022-05-04T02:53:28.314850",
     "status": "completed"
    },
    "tags": []
   },
   "source": [
    "## Naive Bayes\n",
    "###  Categorical NB"
   ]
  },
  {
   "cell_type": "code",
   "execution_count": 109,
   "id": "eeea870f",
   "metadata": {
    "execution": {
     "iopub.execute_input": "2022-05-04T02:53:28.540752Z",
     "iopub.status.busy": "2022-05-04T02:53:28.540046Z",
     "iopub.status.idle": "2022-05-04T02:53:28.561912Z",
     "shell.execute_reply": "2022-05-04T02:53:28.562385Z",
     "shell.execute_reply.started": "2022-03-08T01:25:07.792769Z"
    },
    "id": "hDILPZC-nktC",
    "outputId": "2b3bff31-f427-472a-c52a-5461e207117a",
    "papermill": {
     "duration": 0.101352,
     "end_time": "2022-05-04T02:53:28.562556",
     "exception": false,
     "start_time": "2022-05-04T02:53:28.461204",
     "status": "completed"
    },
    "tags": []
   },
   "outputs": [
    {
     "name": "stdout",
     "output_type": "stream",
     "text": [
      "              precision    recall  f1-score   support\n",
      "\n",
      "       drugA       0.62      1.00      0.77         5\n",
      "       drugB       0.75      1.00      0.86         3\n",
      "       drugC       0.67      1.00      0.80         4\n",
      "       drugX       0.81      0.94      0.87        18\n",
      "       drugY       0.95      0.67      0.78        30\n",
      "\n",
      "    accuracy                           0.82        60\n",
      "   macro avg       0.76      0.92      0.82        60\n",
      "weighted avg       0.85      0.82      0.81        60\n",
      "\n",
      "[[ 5  0  0  0  0]\n",
      " [ 0  3  0  0  0]\n",
      " [ 0  0  4  0  0]\n",
      " [ 0  0  0 17  1]\n",
      " [ 3  1  2  4 20]]\n",
      "Naive Bayes accuracy is: 81.67%\n"
     ]
    }
   ],
   "source": [
    "from sklearn.naive_bayes import CategoricalNB\n",
    "NBclassifier1 = CategoricalNB()\n",
    "NBclassifier1.fit(X_train, y_train)\n",
    "\n",
    "y_pred = NBclassifier1.predict(X_test)\n",
    "\n",
    "print(classification_report(y_test, y_pred))\n",
    "print(confusion_matrix(y_test, y_pred))\n",
    "\n",
    "from sklearn.metrics import accuracy_score\n",
    "NBAcc1 = accuracy_score(y_pred,y_test)\n",
    "print('Naive Bayes accuracy is: {:.2f}%'.format(NBAcc1*100))"
   ]
  },
  {
   "cell_type": "markdown",
   "id": "5abef7cb",
   "metadata": {
    "papermill": {
     "duration": 0.073293,
     "end_time": "2022-05-04T02:53:28.708846",
     "exception": false,
     "start_time": "2022-05-04T02:53:28.635553",
     "status": "completed"
    },
    "tags": []
   },
   "source": [
    "### Gaussian NB"
   ]
  },
  {
   "cell_type": "code",
   "execution_count": 110,
   "id": "7872662b",
   "metadata": {
    "execution": {
     "iopub.execute_input": "2022-05-04T02:53:28.868462Z",
     "iopub.status.busy": "2022-05-04T02:53:28.867418Z",
     "iopub.status.idle": "2022-05-04T02:53:28.881235Z",
     "shell.execute_reply": "2022-05-04T02:53:28.881681Z",
     "shell.execute_reply.started": "2022-03-08T01:25:07.821073Z"
    },
    "papermill": {
     "duration": 0.096459,
     "end_time": "2022-05-04T02:53:28.881873",
     "exception": false,
     "start_time": "2022-05-04T02:53:28.785414",
     "status": "completed"
    },
    "tags": []
   },
   "outputs": [
    {
     "name": "stdout",
     "output_type": "stream",
     "text": [
      "              precision    recall  f1-score   support\n",
      "\n",
      "       drugA       0.71      1.00      0.83         5\n",
      "       drugB       0.75      1.00      0.86         3\n",
      "       drugC       0.67      1.00      0.80         4\n",
      "       drugX       0.82      1.00      0.90        18\n",
      "       drugY       1.00      0.70      0.82        30\n",
      "\n",
      "    accuracy                           0.85        60\n",
      "   macro avg       0.79      0.94      0.84        60\n",
      "weighted avg       0.89      0.85      0.85        60\n",
      "\n",
      "[[ 5  0  0  0  0]\n",
      " [ 0  3  0  0  0]\n",
      " [ 0  0  4  0  0]\n",
      " [ 0  0  0 18  0]\n",
      " [ 2  1  2  4 21]]\n",
      "Gaussian Naive Bayes accuracy is: 85.00%\n"
     ]
    }
   ],
   "source": [
    "from sklearn.naive_bayes import GaussianNB\n",
    "NBclassifier2 = GaussianNB()\n",
    "NBclassifier2.fit(X_train, y_train)\n",
    "\n",
    "y_pred = NBclassifier2.predict(X_test)\n",
    "\n",
    "print(classification_report(y_test, y_pred))\n",
    "print(confusion_matrix(y_test, y_pred))\n",
    "\n",
    "from sklearn.metrics import accuracy_score\n",
    "NBAcc2 = accuracy_score(y_pred,y_test)\n",
    "print('Gaussian Naive Bayes accuracy is: {:.2f}%'.format(NBAcc2*100))"
   ]
  },
  {
   "cell_type": "markdown",
   "id": "53d49180",
   "metadata": {
    "id": "_xm7OvKS07Zl",
    "papermill": {
     "duration": 0.140707,
     "end_time": "2022-05-04T02:55:06.897435",
     "exception": false,
     "start_time": "2022-05-04T02:55:06.756728",
     "status": "completed"
    },
    "tags": []
   },
   "source": [
    "# Model Comparison "
   ]
  },
  {
   "cell_type": "code",
   "execution_count": 111,
   "id": "19fe7acb",
   "metadata": {
    "execution": {
     "iopub.execute_input": "2022-05-04T02:55:07.072768Z",
     "iopub.status.busy": "2022-05-04T02:55:07.072025Z",
     "iopub.status.idle": "2022-05-04T02:55:07.081835Z",
     "shell.execute_reply": "2022-05-04T02:55:07.082479Z",
     "shell.execute_reply.started": "2022-03-08T01:26:43.760138Z"
    },
    "id": "Y3KGgy0o06O8",
    "outputId": "9cf0a87c-2270-4eff-cf42-2105c969bf1c",
    "papermill": {
     "duration": 0.10087,
     "end_time": "2022-05-04T02:55:07.082694",
     "exception": false,
     "start_time": "2022-05-04T02:55:06.981824",
     "status": "completed"
    },
    "tags": []
   },
   "outputs": [
    {
     "data": {
      "text/html": [
       "<div>\n",
       "<style scoped>\n",
       "    .dataframe tbody tr th:only-of-type {\n",
       "        vertical-align: middle;\n",
       "    }\n",
       "\n",
       "    .dataframe tbody tr th {\n",
       "        vertical-align: top;\n",
       "    }\n",
       "\n",
       "    .dataframe thead th {\n",
       "        text-align: right;\n",
       "    }\n",
       "</style>\n",
       "<table border=\"1\" class=\"dataframe\">\n",
       "  <thead>\n",
       "    <tr style=\"text-align: right;\">\n",
       "      <th></th>\n",
       "      <th>Model</th>\n",
       "      <th>Accuracy</th>\n",
       "    </tr>\n",
       "  </thead>\n",
       "  <tbody>\n",
       "    <tr>\n",
       "      <th>3</th>\n",
       "      <td>SVM</td>\n",
       "      <td>85.000000</td>\n",
       "    </tr>\n",
       "    <tr>\n",
       "      <th>5</th>\n",
       "      <td>Gaussian NB</td>\n",
       "      <td>85.000000</td>\n",
       "    </tr>\n",
       "    <tr>\n",
       "      <th>0</th>\n",
       "      <td>Logistic Regression</td>\n",
       "      <td>83.333333</td>\n",
       "    </tr>\n",
       "    <tr>\n",
       "      <th>4</th>\n",
       "      <td>Categorical NB</td>\n",
       "      <td>81.666667</td>\n",
       "    </tr>\n",
       "    <tr>\n",
       "      <th>2</th>\n",
       "      <td>K Neighbors Max</td>\n",
       "      <td>68.333333</td>\n",
       "    </tr>\n",
       "    <tr>\n",
       "      <th>1</th>\n",
       "      <td>K Neighbors</td>\n",
       "      <td>53.333333</td>\n",
       "    </tr>\n",
       "  </tbody>\n",
       "</table>\n",
       "</div>"
      ],
      "text/plain": [
       "                 Model   Accuracy\n",
       "3                  SVM  85.000000\n",
       "5          Gaussian NB  85.000000\n",
       "0  Logistic Regression  83.333333\n",
       "4       Categorical NB  81.666667\n",
       "2      K Neighbors Max  68.333333\n",
       "1          K Neighbors  53.333333"
      ]
     },
     "execution_count": 111,
     "metadata": {},
     "output_type": "execute_result"
    }
   ],
   "source": [
    "compare = pd.DataFrame({'Model': ['Logistic Regression', 'K Neighbors', 'K Neighbors Max', 'SVM', 'Categorical NB', 'Gaussian NB'], \n",
    "                        'Accuracy': [LRAcc*100, KNAcc*100, KNAccMax*100, SVCAcc*100, NBAcc1*100, NBAcc2*100]})\n",
    "compare.sort_values(by='Accuracy', ascending=False)"
   ]
  },
  {
   "cell_type": "code",
   "execution_count": 112,
   "id": "896adafd",
   "metadata": {},
   "outputs": [],
   "source": [
    "import pickle"
   ]
  },
  {
   "cell_type": "code",
   "execution_count": 114,
   "id": "29052b08",
   "metadata": {},
   "outputs": [],
   "source": [
    "pickle.dump(LRclassifier,open('finalModel.pkl','wb'))"
   ]
  },
  {
   "cell_type": "code",
   "execution_count": 115,
   "id": "705f712a",
   "metadata": {},
   "outputs": [],
   "source": [
    "pickle.dump(encoder,open('finalEncoder.pkl','wb'))"
   ]
  },
  {
   "cell_type": "code",
   "execution_count": 116,
   "id": "40cd0f61",
   "metadata": {},
   "outputs": [],
   "source": [
    "model = pickle.load(open('finalModel.pkl','rb'))"
   ]
  },
  {
   "cell_type": "code",
   "execution_count": 117,
   "id": "7b477639",
   "metadata": {},
   "outputs": [],
   "source": [
    "enc = pickle.load(open('finalEncoder.pkl','rb'))"
   ]
  },
  {
   "cell_type": "code",
   "execution_count": 119,
   "id": "c61b51a1",
   "metadata": {},
   "outputs": [
    {
     "data": {
      "text/html": [
       "<div>\n",
       "<style scoped>\n",
       "    .dataframe tbody tr th:only-of-type {\n",
       "        vertical-align: middle;\n",
       "    }\n",
       "\n",
       "    .dataframe tbody tr th {\n",
       "        vertical-align: top;\n",
       "    }\n",
       "\n",
       "    .dataframe thead th {\n",
       "        text-align: right;\n",
       "    }\n",
       "</style>\n",
       "<table border=\"1\" class=\"dataframe\">\n",
       "  <thead>\n",
       "    <tr style=\"text-align: right;\">\n",
       "      <th></th>\n",
       "      <th>Sex</th>\n",
       "      <th>BP</th>\n",
       "      <th>Cholesterol</th>\n",
       "      <th>Age_binned</th>\n",
       "      <th>Na_to_K_binned</th>\n",
       "    </tr>\n",
       "  </thead>\n",
       "  <tbody>\n",
       "    <tr>\n",
       "      <th>0</th>\n",
       "      <td>F</td>\n",
       "      <td>HIGH</td>\n",
       "      <td>HIGH</td>\n",
       "      <td>20s</td>\n",
       "      <td>20-30</td>\n",
       "    </tr>\n",
       "    <tr>\n",
       "      <th>1</th>\n",
       "      <td>M</td>\n",
       "      <td>LOW</td>\n",
       "      <td>HIGH</td>\n",
       "      <td>40s</td>\n",
       "      <td>10-20</td>\n",
       "    </tr>\n",
       "    <tr>\n",
       "      <th>2</th>\n",
       "      <td>M</td>\n",
       "      <td>LOW</td>\n",
       "      <td>HIGH</td>\n",
       "      <td>40s</td>\n",
       "      <td>10-20</td>\n",
       "    </tr>\n",
       "    <tr>\n",
       "      <th>3</th>\n",
       "      <td>F</td>\n",
       "      <td>NORMAL</td>\n",
       "      <td>HIGH</td>\n",
       "      <td>20s</td>\n",
       "      <td>&lt;10</td>\n",
       "    </tr>\n",
       "    <tr>\n",
       "      <th>4</th>\n",
       "      <td>F</td>\n",
       "      <td>LOW</td>\n",
       "      <td>HIGH</td>\n",
       "      <td>60s</td>\n",
       "      <td>10-20</td>\n",
       "    </tr>\n",
       "    <tr>\n",
       "      <th>...</th>\n",
       "      <td>...</td>\n",
       "      <td>...</td>\n",
       "      <td>...</td>\n",
       "      <td>...</td>\n",
       "      <td>...</td>\n",
       "    </tr>\n",
       "    <tr>\n",
       "      <th>195</th>\n",
       "      <td>F</td>\n",
       "      <td>LOW</td>\n",
       "      <td>HIGH</td>\n",
       "      <td>50s</td>\n",
       "      <td>10-20</td>\n",
       "    </tr>\n",
       "    <tr>\n",
       "      <th>196</th>\n",
       "      <td>M</td>\n",
       "      <td>LOW</td>\n",
       "      <td>HIGH</td>\n",
       "      <td>&lt;20s</td>\n",
       "      <td>10-20</td>\n",
       "    </tr>\n",
       "    <tr>\n",
       "      <th>197</th>\n",
       "      <td>M</td>\n",
       "      <td>NORMAL</td>\n",
       "      <td>HIGH</td>\n",
       "      <td>50s</td>\n",
       "      <td>10-20</td>\n",
       "    </tr>\n",
       "    <tr>\n",
       "      <th>198</th>\n",
       "      <td>M</td>\n",
       "      <td>NORMAL</td>\n",
       "      <td>NORMAL</td>\n",
       "      <td>20s</td>\n",
       "      <td>10-20</td>\n",
       "    </tr>\n",
       "    <tr>\n",
       "      <th>199</th>\n",
       "      <td>F</td>\n",
       "      <td>LOW</td>\n",
       "      <td>NORMAL</td>\n",
       "      <td>40s</td>\n",
       "      <td>10-20</td>\n",
       "    </tr>\n",
       "  </tbody>\n",
       "</table>\n",
       "<p>200 rows × 5 columns</p>\n",
       "</div>"
      ],
      "text/plain": [
       "    Sex      BP Cholesterol Age_binned Na_to_K_binned\n",
       "0     F    HIGH        HIGH        20s          20-30\n",
       "1     M     LOW        HIGH        40s          10-20\n",
       "2     M     LOW        HIGH        40s          10-20\n",
       "3     F  NORMAL        HIGH        20s            <10\n",
       "4     F     LOW        HIGH        60s          10-20\n",
       "..   ..     ...         ...        ...            ...\n",
       "195   F     LOW        HIGH        50s          10-20\n",
       "196   M     LOW        HIGH       <20s          10-20\n",
       "197   M  NORMAL        HIGH        50s          10-20\n",
       "198   M  NORMAL      NORMAL        20s          10-20\n",
       "199   F     LOW      NORMAL        40s          10-20\n",
       "\n",
       "[200 rows x 5 columns]"
      ]
     },
     "execution_count": 119,
     "metadata": {},
     "output_type": "execute_result"
    }
   ],
   "source": [
    "X"
   ]
  },
  {
   "cell_type": "code",
   "execution_count": 121,
   "id": "bf1f0073",
   "metadata": {},
   "outputs": [],
   "source": [
    "tt = np.array([['M','NORMAL','NORMAL','40s','>30']])"
   ]
  },
  {
   "cell_type": "code",
   "execution_count": 122,
   "id": "9aa9e04b",
   "metadata": {},
   "outputs": [
    {
     "name": "stderr",
     "output_type": "stream",
     "text": [
      "C:\\Users\\User\\anaconda3\\envs\\My_Project\\lib\\site-packages\\sklearn\\base.py:450: UserWarning: X does not have valid feature names, but OneHotEncoder was fitted with feature names\n",
      "  warnings.warn(\n"
     ]
    }
   ],
   "source": [
    "sc = enc.transform(tt)"
   ]
  },
  {
   "cell_type": "code",
   "execution_count": 123,
   "id": "c1a53bfe",
   "metadata": {},
   "outputs": [
    {
     "data": {
      "text/plain": [
       "array(['drugY'], dtype=object)"
      ]
     },
     "execution_count": 123,
     "metadata": {},
     "output_type": "execute_result"
    }
   ],
   "source": [
    "model.predict(sc)"
   ]
  },
  {
   "cell_type": "code",
   "execution_count": null,
   "id": "de376cc4",
   "metadata": {},
   "outputs": [],
   "source": [
    "# encData = enc.transform(myTest)"
   ]
  },
  {
   "cell_type": "code",
   "execution_count": null,
   "id": "2c140de2",
   "metadata": {},
   "outputs": [],
   "source": [
    "# model.predict(myTest)"
   ]
  },
  {
   "cell_type": "markdown",
   "id": "5ae5f009",
   "metadata": {
    "id": "5_JCBDAw1hJd",
    "papermill": {
     "duration": 0.082927,
     "end_time": "2022-05-04T02:55:07.250053",
     "exception": false,
     "start_time": "2022-05-04T02:55:07.167126",
     "status": "completed"
    },
    "tags": []
   },
   "source": [
    " From the results, it can be seen that most of ML models can reach **up to 80% accuracy** in predicting classification of drug type."
   ]
  }
 ],
 "metadata": {
  "kernelspec": {
   "display_name": "Python 3 (ipykernel)",
   "language": "python",
   "name": "python3"
  },
  "language_info": {
   "codemirror_mode": {
    "name": "ipython",
    "version": 3
   },
   "file_extension": ".py",
   "mimetype": "text/x-python",
   "name": "python",
   "nbconvert_exporter": "python",
   "pygments_lexer": "ipython3",
   "version": "3.10.9"
  },
  "papermill": {
   "default_parameters": {},
   "duration": 123.972965,
   "end_time": "2022-05-04T02:55:10.135212",
   "environment_variables": {},
   "exception": null,
   "input_path": "__notebook__.ipynb",
   "output_path": "__notebook__.ipynb",
   "parameters": {},
   "start_time": "2022-05-04T02:53:06.162247",
   "version": "2.3.3"
  }
 },
 "nbformat": 4,
 "nbformat_minor": 5
}
